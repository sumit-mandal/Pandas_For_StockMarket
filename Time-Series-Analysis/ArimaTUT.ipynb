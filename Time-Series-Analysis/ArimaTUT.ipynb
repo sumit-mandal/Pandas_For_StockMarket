{
 "cells": [
  {
   "cell_type": "markdown",
   "id": "6b565c64-91c4-4d09-a20d-4d0072b7f0e7",
   "metadata": {},
   "source": [
    "\n",
    "\n",
    "# ARIMA and Seasonal ARIMA\n",
    "\n",
    "\n",
    "## Autoregressive Integrated Moving Averages\n",
    "\n",
    "The general process for ARIMA models is the following:\n",
    "* Visualize the Time Series Data\n",
    "* Make the time series data stationary\n",
    "* Plot the Correlation and AutoCorrelation Charts\n",
    "* Construct the ARIMA Model\n",
    "* Use the model to make predictions\n",
    "\n",
    "Let's go through these steps!"
   ]
  },
  {
   "cell_type": "markdown",
   "id": "ebfbadaa-014b-460b-9a81-42204b64ae74",
   "metadata": {},
   "source": [
    "## Step 1: Get the Data (and format it)\n",
    "\n",
    "We will be using some data about monthly milk production, full details on it can be found [here](https://datamarket.com/data/set/22ox/monthly-milk-production-pounds-per-cow-jan-62-dec-75#!ds=22ox&display=line).\n"
   ]
  },
  {
   "cell_type": "code",
   "execution_count": 3,
   "id": "c13b2823-fc8a-4346-bc3a-fff0c3264ded",
   "metadata": {},
   "outputs": [],
   "source": [
    "import numpy as np\n",
    "import matplotlib.pyplot as plt\n",
    "import pandas as pd\n",
    "import statsmodels.api as sm"
   ]
  },
  {
   "cell_type": "code",
   "execution_count": 4,
   "id": "2a4ec040-6df2-4bc8-81cb-3de45c1a5a96",
   "metadata": {},
   "outputs": [],
   "source": [
    "df = pd.read_csv('monthly-milk-production-pounds-p.csv')"
   ]
  },
  {
   "cell_type": "code",
   "execution_count": 5,
   "id": "61e78add-2bf9-40e0-831a-df5b0ed4fc08",
   "metadata": {},
   "outputs": [
    {
     "data": {
      "text/html": [
       "<div>\n",
       "<style scoped>\n",
       "    .dataframe tbody tr th:only-of-type {\n",
       "        vertical-align: middle;\n",
       "    }\n",
       "\n",
       "    .dataframe tbody tr th {\n",
       "        vertical-align: top;\n",
       "    }\n",
       "\n",
       "    .dataframe thead th {\n",
       "        text-align: right;\n",
       "    }\n",
       "</style>\n",
       "<table border=\"1\" class=\"dataframe\">\n",
       "  <thead>\n",
       "    <tr style=\"text-align: right;\">\n",
       "      <th></th>\n",
       "      <th>Month</th>\n",
       "      <th>Monthly milk production: pounds per cow. Jan 62 ? Dec 75</th>\n",
       "    </tr>\n",
       "  </thead>\n",
       "  <tbody>\n",
       "    <tr>\n",
       "      <th>0</th>\n",
       "      <td>1962-01</td>\n",
       "      <td>589.0</td>\n",
       "    </tr>\n",
       "    <tr>\n",
       "      <th>1</th>\n",
       "      <td>1962-02</td>\n",
       "      <td>561.0</td>\n",
       "    </tr>\n",
       "    <tr>\n",
       "      <th>2</th>\n",
       "      <td>1962-03</td>\n",
       "      <td>640.0</td>\n",
       "    </tr>\n",
       "    <tr>\n",
       "      <th>3</th>\n",
       "      <td>1962-04</td>\n",
       "      <td>656.0</td>\n",
       "    </tr>\n",
       "    <tr>\n",
       "      <th>4</th>\n",
       "      <td>1962-05</td>\n",
       "      <td>727.0</td>\n",
       "    </tr>\n",
       "  </tbody>\n",
       "</table>\n",
       "</div>"
      ],
      "text/plain": [
       "     Month  Monthly milk production: pounds per cow. Jan 62 ? Dec 75\n",
       "0  1962-01                                              589.0       \n",
       "1  1962-02                                              561.0       \n",
       "2  1962-03                                              640.0       \n",
       "3  1962-04                                              656.0       \n",
       "4  1962-05                                              727.0       "
      ]
     },
     "execution_count": 5,
     "metadata": {},
     "output_type": "execute_result"
    }
   ],
   "source": [
    "df.head()"
   ]
  },
  {
   "cell_type": "code",
   "execution_count": 6,
   "id": "98187d56-220d-4c93-8b98-7396a22b2d28",
   "metadata": {},
   "outputs": [],
   "source": [
    "#changing the name of columns \n",
    "df.columns = ['Month','Milk in Pounds Per Cow']"
   ]
  },
  {
   "cell_type": "code",
   "execution_count": 7,
   "id": "a642a090-4fcc-433c-a9a8-a117121813c9",
   "metadata": {},
   "outputs": [
    {
     "data": {
      "text/html": [
       "<div>\n",
       "<style scoped>\n",
       "    .dataframe tbody tr th:only-of-type {\n",
       "        vertical-align: middle;\n",
       "    }\n",
       "\n",
       "    .dataframe tbody tr th {\n",
       "        vertical-align: top;\n",
       "    }\n",
       "\n",
       "    .dataframe thead th {\n",
       "        text-align: right;\n",
       "    }\n",
       "</style>\n",
       "<table border=\"1\" class=\"dataframe\">\n",
       "  <thead>\n",
       "    <tr style=\"text-align: right;\">\n",
       "      <th></th>\n",
       "      <th>Month</th>\n",
       "      <th>Milk in Pounds Per Cow</th>\n",
       "    </tr>\n",
       "  </thead>\n",
       "  <tbody>\n",
       "    <tr>\n",
       "      <th>0</th>\n",
       "      <td>1962-01</td>\n",
       "      <td>589.0</td>\n",
       "    </tr>\n",
       "    <tr>\n",
       "      <th>1</th>\n",
       "      <td>1962-02</td>\n",
       "      <td>561.0</td>\n",
       "    </tr>\n",
       "    <tr>\n",
       "      <th>2</th>\n",
       "      <td>1962-03</td>\n",
       "      <td>640.0</td>\n",
       "    </tr>\n",
       "    <tr>\n",
       "      <th>3</th>\n",
       "      <td>1962-04</td>\n",
       "      <td>656.0</td>\n",
       "    </tr>\n",
       "    <tr>\n",
       "      <th>4</th>\n",
       "      <td>1962-05</td>\n",
       "      <td>727.0</td>\n",
       "    </tr>\n",
       "  </tbody>\n",
       "</table>\n",
       "</div>"
      ],
      "text/plain": [
       "     Month  Milk in Pounds Per Cow\n",
       "0  1962-01                   589.0\n",
       "1  1962-02                   561.0\n",
       "2  1962-03                   640.0\n",
       "3  1962-04                   656.0\n",
       "4  1962-05                   727.0"
      ]
     },
     "execution_count": 7,
     "metadata": {},
     "output_type": "execute_result"
    }
   ],
   "source": [
    "df.head()"
   ]
  },
  {
   "cell_type": "code",
   "execution_count": 8,
   "id": "ae3cb63d-ab6b-48e7-8b30-d998a9d367f8",
   "metadata": {},
   "outputs": [
    {
     "data": {
      "text/html": [
       "<div>\n",
       "<style scoped>\n",
       "    .dataframe tbody tr th:only-of-type {\n",
       "        vertical-align: middle;\n",
       "    }\n",
       "\n",
       "    .dataframe tbody tr th {\n",
       "        vertical-align: top;\n",
       "    }\n",
       "\n",
       "    .dataframe thead th {\n",
       "        text-align: right;\n",
       "    }\n",
       "</style>\n",
       "<table border=\"1\" class=\"dataframe\">\n",
       "  <thead>\n",
       "    <tr style=\"text-align: right;\">\n",
       "      <th></th>\n",
       "      <th>Month</th>\n",
       "      <th>Milk in Pounds Per Cow</th>\n",
       "    </tr>\n",
       "  </thead>\n",
       "  <tbody>\n",
       "    <tr>\n",
       "      <th>164</th>\n",
       "      <td>1975-09</td>\n",
       "      <td>817.0</td>\n",
       "    </tr>\n",
       "    <tr>\n",
       "      <th>165</th>\n",
       "      <td>1975-10</td>\n",
       "      <td>827.0</td>\n",
       "    </tr>\n",
       "    <tr>\n",
       "      <th>166</th>\n",
       "      <td>1975-11</td>\n",
       "      <td>797.0</td>\n",
       "    </tr>\n",
       "    <tr>\n",
       "      <th>167</th>\n",
       "      <td>1975-12</td>\n",
       "      <td>843.0</td>\n",
       "    </tr>\n",
       "    <tr>\n",
       "      <th>168</th>\n",
       "      <td>Monthly milk production: pounds per cow. Jan 6...</td>\n",
       "      <td>NaN</td>\n",
       "    </tr>\n",
       "  </tbody>\n",
       "</table>\n",
       "</div>"
      ],
      "text/plain": [
       "                                                 Month  Milk in Pounds Per Cow\n",
       "164                                            1975-09                   817.0\n",
       "165                                            1975-10                   827.0\n",
       "166                                            1975-11                   797.0\n",
       "167                                            1975-12                   843.0\n",
       "168  Monthly milk production: pounds per cow. Jan 6...                     NaN"
      ]
     },
     "execution_count": 8,
     "metadata": {},
     "output_type": "execute_result"
    }
   ],
   "source": [
    "df.tail()"
   ]
  },
  {
   "cell_type": "code",
   "execution_count": 9,
   "id": "ada006bb-5067-41ea-bfcc-38e0d8ebfea7",
   "metadata": {},
   "outputs": [],
   "source": [
    "#Since value of 168 row is not available we'll drop it\n",
    "df.drop(168,axis=0,inplace=True)"
   ]
  },
  {
   "cell_type": "code",
   "execution_count": 10,
   "id": "7b505bd3-5c25-46c2-bbce-3e9d90607623",
   "metadata": {},
   "outputs": [
    {
     "data": {
      "text/html": [
       "<div>\n",
       "<style scoped>\n",
       "    .dataframe tbody tr th:only-of-type {\n",
       "        vertical-align: middle;\n",
       "    }\n",
       "\n",
       "    .dataframe tbody tr th {\n",
       "        vertical-align: top;\n",
       "    }\n",
       "\n",
       "    .dataframe thead th {\n",
       "        text-align: right;\n",
       "    }\n",
       "</style>\n",
       "<table border=\"1\" class=\"dataframe\">\n",
       "  <thead>\n",
       "    <tr style=\"text-align: right;\">\n",
       "      <th></th>\n",
       "      <th>Month</th>\n",
       "      <th>Milk in Pounds Per Cow</th>\n",
       "    </tr>\n",
       "  </thead>\n",
       "  <tbody>\n",
       "    <tr>\n",
       "      <th>163</th>\n",
       "      <td>1975-08</td>\n",
       "      <td>858.0</td>\n",
       "    </tr>\n",
       "    <tr>\n",
       "      <th>164</th>\n",
       "      <td>1975-09</td>\n",
       "      <td>817.0</td>\n",
       "    </tr>\n",
       "    <tr>\n",
       "      <th>165</th>\n",
       "      <td>1975-10</td>\n",
       "      <td>827.0</td>\n",
       "    </tr>\n",
       "    <tr>\n",
       "      <th>166</th>\n",
       "      <td>1975-11</td>\n",
       "      <td>797.0</td>\n",
       "    </tr>\n",
       "    <tr>\n",
       "      <th>167</th>\n",
       "      <td>1975-12</td>\n",
       "      <td>843.0</td>\n",
       "    </tr>\n",
       "  </tbody>\n",
       "</table>\n",
       "</div>"
      ],
      "text/plain": [
       "       Month  Milk in Pounds Per Cow\n",
       "163  1975-08                   858.0\n",
       "164  1975-09                   817.0\n",
       "165  1975-10                   827.0\n",
       "166  1975-11                   797.0\n",
       "167  1975-12                   843.0"
      ]
     },
     "execution_count": 10,
     "metadata": {},
     "output_type": "execute_result"
    }
   ],
   "source": [
    "df.tail()"
   ]
  },
  {
   "cell_type": "code",
   "execution_count": 11,
   "id": "9011c035-d2cb-4fc6-8e63-3c15d365bfd5",
   "metadata": {},
   "outputs": [],
   "source": [
    "#adding days as we have only months and years\n",
    "df['Month'] = pd.to_datetime(df['Month'])"
   ]
  },
  {
   "cell_type": "code",
   "execution_count": 12,
   "id": "15b9c767-7df8-4385-9156-346b28fa1ef7",
   "metadata": {},
   "outputs": [
    {
     "data": {
      "text/html": [
       "<div>\n",
       "<style scoped>\n",
       "    .dataframe tbody tr th:only-of-type {\n",
       "        vertical-align: middle;\n",
       "    }\n",
       "\n",
       "    .dataframe tbody tr th {\n",
       "        vertical-align: top;\n",
       "    }\n",
       "\n",
       "    .dataframe thead th {\n",
       "        text-align: right;\n",
       "    }\n",
       "</style>\n",
       "<table border=\"1\" class=\"dataframe\">\n",
       "  <thead>\n",
       "    <tr style=\"text-align: right;\">\n",
       "      <th></th>\n",
       "      <th>Month</th>\n",
       "      <th>Milk in Pounds Per Cow</th>\n",
       "    </tr>\n",
       "  </thead>\n",
       "  <tbody>\n",
       "    <tr>\n",
       "      <th>0</th>\n",
       "      <td>1962-01-01</td>\n",
       "      <td>589.0</td>\n",
       "    </tr>\n",
       "    <tr>\n",
       "      <th>1</th>\n",
       "      <td>1962-02-01</td>\n",
       "      <td>561.0</td>\n",
       "    </tr>\n",
       "    <tr>\n",
       "      <th>2</th>\n",
       "      <td>1962-03-01</td>\n",
       "      <td>640.0</td>\n",
       "    </tr>\n",
       "    <tr>\n",
       "      <th>3</th>\n",
       "      <td>1962-04-01</td>\n",
       "      <td>656.0</td>\n",
       "    </tr>\n",
       "    <tr>\n",
       "      <th>4</th>\n",
       "      <td>1962-05-01</td>\n",
       "      <td>727.0</td>\n",
       "    </tr>\n",
       "    <tr>\n",
       "      <th>...</th>\n",
       "      <td>...</td>\n",
       "      <td>...</td>\n",
       "    </tr>\n",
       "    <tr>\n",
       "      <th>163</th>\n",
       "      <td>1975-08-01</td>\n",
       "      <td>858.0</td>\n",
       "    </tr>\n",
       "    <tr>\n",
       "      <th>164</th>\n",
       "      <td>1975-09-01</td>\n",
       "      <td>817.0</td>\n",
       "    </tr>\n",
       "    <tr>\n",
       "      <th>165</th>\n",
       "      <td>1975-10-01</td>\n",
       "      <td>827.0</td>\n",
       "    </tr>\n",
       "    <tr>\n",
       "      <th>166</th>\n",
       "      <td>1975-11-01</td>\n",
       "      <td>797.0</td>\n",
       "    </tr>\n",
       "    <tr>\n",
       "      <th>167</th>\n",
       "      <td>1975-12-01</td>\n",
       "      <td>843.0</td>\n",
       "    </tr>\n",
       "  </tbody>\n",
       "</table>\n",
       "<p>168 rows × 2 columns</p>\n",
       "</div>"
      ],
      "text/plain": [
       "         Month  Milk in Pounds Per Cow\n",
       "0   1962-01-01                   589.0\n",
       "1   1962-02-01                   561.0\n",
       "2   1962-03-01                   640.0\n",
       "3   1962-04-01                   656.0\n",
       "4   1962-05-01                   727.0\n",
       "..         ...                     ...\n",
       "163 1975-08-01                   858.0\n",
       "164 1975-09-01                   817.0\n",
       "165 1975-10-01                   827.0\n",
       "166 1975-11-01                   797.0\n",
       "167 1975-12-01                   843.0\n",
       "\n",
       "[168 rows x 2 columns]"
      ]
     },
     "execution_count": 12,
     "metadata": {},
     "output_type": "execute_result"
    }
   ],
   "source": [
    "df"
   ]
  },
  {
   "cell_type": "code",
   "execution_count": 13,
   "id": "3615595e-927f-4ad7-ad64-9ec578004b2c",
   "metadata": {},
   "outputs": [],
   "source": [
    "#setting month column as the index\n",
    "df.set_index('Month',inplace=True)"
   ]
  },
  {
   "cell_type": "code",
   "execution_count": 14,
   "id": "9aa2f730-34b4-4a10-958f-9a15aa7549be",
   "metadata": {},
   "outputs": [
    {
     "data": {
      "text/html": [
       "<div>\n",
       "<style scoped>\n",
       "    .dataframe tbody tr th:only-of-type {\n",
       "        vertical-align: middle;\n",
       "    }\n",
       "\n",
       "    .dataframe tbody tr th {\n",
       "        vertical-align: top;\n",
       "    }\n",
       "\n",
       "    .dataframe thead th {\n",
       "        text-align: right;\n",
       "    }\n",
       "</style>\n",
       "<table border=\"1\" class=\"dataframe\">\n",
       "  <thead>\n",
       "    <tr style=\"text-align: right;\">\n",
       "      <th></th>\n",
       "      <th>Milk in Pounds Per Cow</th>\n",
       "    </tr>\n",
       "    <tr>\n",
       "      <th>Month</th>\n",
       "      <th></th>\n",
       "    </tr>\n",
       "  </thead>\n",
       "  <tbody>\n",
       "    <tr>\n",
       "      <th>1962-01-01</th>\n",
       "      <td>589.0</td>\n",
       "    </tr>\n",
       "    <tr>\n",
       "      <th>1962-02-01</th>\n",
       "      <td>561.0</td>\n",
       "    </tr>\n",
       "    <tr>\n",
       "      <th>1962-03-01</th>\n",
       "      <td>640.0</td>\n",
       "    </tr>\n",
       "    <tr>\n",
       "      <th>1962-04-01</th>\n",
       "      <td>656.0</td>\n",
       "    </tr>\n",
       "    <tr>\n",
       "      <th>1962-05-01</th>\n",
       "      <td>727.0</td>\n",
       "    </tr>\n",
       "    <tr>\n",
       "      <th>...</th>\n",
       "      <td>...</td>\n",
       "    </tr>\n",
       "    <tr>\n",
       "      <th>1975-08-01</th>\n",
       "      <td>858.0</td>\n",
       "    </tr>\n",
       "    <tr>\n",
       "      <th>1975-09-01</th>\n",
       "      <td>817.0</td>\n",
       "    </tr>\n",
       "    <tr>\n",
       "      <th>1975-10-01</th>\n",
       "      <td>827.0</td>\n",
       "    </tr>\n",
       "    <tr>\n",
       "      <th>1975-11-01</th>\n",
       "      <td>797.0</td>\n",
       "    </tr>\n",
       "    <tr>\n",
       "      <th>1975-12-01</th>\n",
       "      <td>843.0</td>\n",
       "    </tr>\n",
       "  </tbody>\n",
       "</table>\n",
       "<p>168 rows × 1 columns</p>\n",
       "</div>"
      ],
      "text/plain": [
       "            Milk in Pounds Per Cow\n",
       "Month                             \n",
       "1962-01-01                   589.0\n",
       "1962-02-01                   561.0\n",
       "1962-03-01                   640.0\n",
       "1962-04-01                   656.0\n",
       "1962-05-01                   727.0\n",
       "...                            ...\n",
       "1975-08-01                   858.0\n",
       "1975-09-01                   817.0\n",
       "1975-10-01                   827.0\n",
       "1975-11-01                   797.0\n",
       "1975-12-01                   843.0\n",
       "\n",
       "[168 rows x 1 columns]"
      ]
     },
     "execution_count": 14,
     "metadata": {},
     "output_type": "execute_result"
    }
   ],
   "source": [
    "df"
   ]
  },
  {
   "cell_type": "code",
   "execution_count": 15,
   "id": "40410b69-633e-495a-8e46-4af57716db68",
   "metadata": {},
   "outputs": [
    {
     "data": {
      "text/plain": [
       "DatetimeIndex(['1962-01-01', '1962-02-01', '1962-03-01', '1962-04-01',\n",
       "               '1962-05-01', '1962-06-01', '1962-07-01', '1962-08-01',\n",
       "               '1962-09-01', '1962-10-01',\n",
       "               ...\n",
       "               '1975-03-01', '1975-04-01', '1975-05-01', '1975-06-01',\n",
       "               '1975-07-01', '1975-08-01', '1975-09-01', '1975-10-01',\n",
       "               '1975-11-01', '1975-12-01'],\n",
       "              dtype='datetime64[ns]', name='Month', length=168, freq=None)"
      ]
     },
     "execution_count": 15,
     "metadata": {},
     "output_type": "execute_result"
    }
   ],
   "source": [
    "df.index"
   ]
  },
  {
   "cell_type": "code",
   "execution_count": 16,
   "id": "d44c6710-2bc1-4246-bbf7-302c61b93aea",
   "metadata": {},
   "outputs": [
    {
     "data": {
      "text/html": [
       "<div>\n",
       "<style scoped>\n",
       "    .dataframe tbody tr th:only-of-type {\n",
       "        vertical-align: middle;\n",
       "    }\n",
       "\n",
       "    .dataframe tbody tr th {\n",
       "        vertical-align: top;\n",
       "    }\n",
       "\n",
       "    .dataframe thead th {\n",
       "        text-align: right;\n",
       "    }\n",
       "</style>\n",
       "<table border=\"1\" class=\"dataframe\">\n",
       "  <thead>\n",
       "    <tr style=\"text-align: right;\">\n",
       "      <th></th>\n",
       "      <th>count</th>\n",
       "      <th>mean</th>\n",
       "      <th>std</th>\n",
       "      <th>min</th>\n",
       "      <th>25%</th>\n",
       "      <th>50%</th>\n",
       "      <th>75%</th>\n",
       "      <th>max</th>\n",
       "    </tr>\n",
       "  </thead>\n",
       "  <tbody>\n",
       "    <tr>\n",
       "      <th>Milk in Pounds Per Cow</th>\n",
       "      <td>168.0</td>\n",
       "      <td>754.708333</td>\n",
       "      <td>102.204524</td>\n",
       "      <td>553.0</td>\n",
       "      <td>677.75</td>\n",
       "      <td>761.0</td>\n",
       "      <td>824.5</td>\n",
       "      <td>969.0</td>\n",
       "    </tr>\n",
       "  </tbody>\n",
       "</table>\n",
       "</div>"
      ],
      "text/plain": [
       "                        count        mean         std    min     25%    50%  \\\n",
       "Milk in Pounds Per Cow  168.0  754.708333  102.204524  553.0  677.75  761.0   \n",
       "\n",
       "                          75%    max  \n",
       "Milk in Pounds Per Cow  824.5  969.0  "
      ]
     },
     "execution_count": 16,
     "metadata": {},
     "output_type": "execute_result"
    }
   ],
   "source": [
    "df.describe().transpose()"
   ]
  },
  {
   "cell_type": "markdown",
   "id": "cbb2a43e-90c9-43cb-9f06-67bbf14ad276",
   "metadata": {},
   "source": [
    "# Visualising the data"
   ]
  },
  {
   "cell_type": "code",
   "execution_count": 17,
   "id": "85a586d2-c712-490a-a327-fa19df036b08",
   "metadata": {},
   "outputs": [
    {
     "data": {
      "text/plain": [
       "<AxesSubplot:xlabel='Month'>"
      ]
     },
     "execution_count": 17,
     "metadata": {},
     "output_type": "execute_result"
    },
    {
     "data": {
      "image/png": "[encoded data removed]",
      "text/plain": [
       "<Figure size 432x288 with 1 Axes>"
      ]
     },
     "metadata": {
      "needs_background": "light"
     },
     "output_type": "display_data"
    }
   ],
   "source": [
    "df.plot()"
   ]
  },
  {
   "cell_type": "code",
   "execution_count": 18,
   "id": "7cf9d6b9-23f7-4b83-8482-748918f707bf",
   "metadata": {},
   "outputs": [],
   "source": [
    "#since Milk in Pounds Per Cow' is very long we set it equal to variable 'time_series'\n",
    "time_series = df['Milk in Pounds Per Cow']"
   ]
  },
  {
   "cell_type": "code",
   "execution_count": 19,
   "id": "4a5725cc-169c-462a-8b9d-0304d1f3a387",
   "metadata": {},
   "outputs": [
    {
     "data": {
      "text/plain": [
       "pandas.core.series.Series"
      ]
     },
     "execution_count": 19,
     "metadata": {},
     "output_type": "execute_result"
    }
   ],
   "source": [
    "type(time_series)"
   ]
  },
  {
   "cell_type": "code",
   "execution_count": 20,
   "id": "16463ce0-f942-41b7-a0fd-53020ffcd940",
   "metadata": {},
   "outputs": [
    {
     "data": {
      "text/plain": [
       "Month\n",
       "1962-01-01           NaN\n",
       "1962-02-01           NaN\n",
       "1962-03-01           NaN\n",
       "1962-04-01           NaN\n",
       "1962-05-01           NaN\n",
       "                 ...    \n",
       "1975-08-01    856.750000\n",
       "1975-09-01    856.916667\n",
       "1975-10-01    858.166667\n",
       "1975-11-01    860.166667\n",
       "1975-12-01    862.666667\n",
       "Name: Milk in Pounds Per Cow, Length: 168, dtype: float64"
      ]
     },
     "execution_count": 20,
     "metadata": {},
     "output_type": "execute_result"
    }
   ],
   "source": [
    "#12 month rolling simple average\n",
    "time_series.rolling(12).mean()"
   ]
  },
  {
   "cell_type": "code",
   "execution_count": 21,
   "id": "7274b5a6-7e30-41f8-ac1a-cc41b43c9f1d",
   "metadata": {},
   "outputs": [
    {
     "data": {
      "text/plain": [
       "<matplotlib.legend.Legend at 0x28f74d7ff10>"
      ]
     },
     "execution_count": 21,
     "metadata": {},
     "output_type": "execute_result"
    },
    {
     "data": {
      "image/png": "[encoded data removed]",
      "text/plain": [
       "<Figure size 432x288 with 1 Axes>"
      ]
     },
     "metadata": {
      "needs_background": "light"
     },
     "output_type": "display_data"
    }
   ],
   "source": [
    "time_series.rolling(12).mean().plot(label = '12 month Rolling mean')\n",
    "\n",
    "#plottinng standard deviation\n",
    "time_series.rolling(12).std().plot(label='12 month standard deviation')\n",
    "\n",
    "time_series.plot()\n",
    "plt.legend()"
   ]
  },
  {
   "cell_type": "markdown",
   "id": "69a5b2d8-33ea-41ff-94e0-a203d0131e0b",
   "metadata": {},
   "source": [
    "## Decomposition\n",
    "\n",
    "ETS decomposition allows us to see the individual parts!"
   ]
  },
  {
   "cell_type": "code",
   "execution_count": 22,
   "id": "fbeb1b04-6c4e-47b0-b147-3f81e1978795",
   "metadata": {},
   "outputs": [
    {
     "data": {
      "image/png": "[encoded data removed]",
      "text/plain": [
       "<Figure size 1080x576 with 4 Axes>"
      ]
     },
     "metadata": {
      "needs_background": "light"
     },
     "output_type": "display_data"
    }
   ],
   "source": [
    "from statsmodels.tsa.seasonal import seasonal_decompose\n",
    "decomp = seasonal_decompose(time_series,period=12)\n",
    "fig = decomp.plot()\n",
    "fig.set_size_inches(15,8)"
   ]
  },
  {
   "cell_type": "markdown",
   "id": "878e3376-c165-4d2c-afc8-985653c75180",
   "metadata": {},
   "source": [
    "## Testing for Stationarity\n",
    "\n",
    "We can use the Augmented [Dickey-Fuller](https://en.wikipedia.org/wiki/Augmented_Dickey%E2%80%93Fuller_test) [unit root test](https://en.wikipedia.org/wiki/Unit_root_test).\n",
    "\n",
    "In statistics and econometrics, an augmented Dickey–Fuller test (ADF) tests the null hypothesis that a unit root is present in a time series sample. The alternative hypothesis is different depending on which version of the test is used, but is usually stationarity or trend-stationarity.\n",
    "\n",
    "Basically, we are trying to whether to accept the Null Hypothesis **H0** (that the time series has a unit root, indicating it is non-stationary) or reject **H0** and go with the Alternative Hypothesis (that the time series has no unit root and is stationary).\n",
    "\n",
    "We end up deciding this based on the p-value return.\n",
    "\n",
    "* A small p-value (typically ≤ 0.05) indicates strong evidence against the null hypothesis, so you reject the null hypothesis.\n",
    "\n",
    "* A large p-value (> 0.05) indicates weak evidence against the null hypothesis, so you fail to reject the null hypothesis.\n",
    "\n",
    "Let's run the Augmented Dickey-Fuller test on our data:"
   ]
  },
  {
   "cell_type": "code",
   "execution_count": 23,
   "id": "4a8c74cf-1570-44ed-ab93-8d3aae4f5d2b",
   "metadata": {},
   "outputs": [],
   "source": [
    "from statsmodels.tsa.stattools import adfuller\n",
    "\n",
    "result = adfuller(df['Milk in Pounds Per Cow'])"
   ]
  },
  {
   "cell_type": "code",
   "execution_count": 24,
   "id": "c3f98adc-672c-4928-9e02-859b5d6a515e",
   "metadata": {},
   "outputs": [
    {
     "data": {
      "text/plain": [
       "(-1.3038115874221294,\n",
       " 0.6274267086030316,\n",
       " 13,\n",
       " 154,\n",
       " {'1%': -3.473542528196209,\n",
       "  '5%': -2.880497674144038,\n",
       "  '10%': -2.576878053634677},\n",
       " 1115.1730447395112)"
      ]
     },
     "execution_count": 24,
     "metadata": {},
     "output_type": "execute_result"
    }
   ],
   "source": [
    "result"
   ]
  },
  {
   "cell_type": "code",
   "execution_count": 25,
   "id": "565e156c-d3f9-4e4e-9f14-8276d6f6e4bd",
   "metadata": {},
   "outputs": [],
   "source": [
    "def adf_check(time_series):\n",
    "    \n",
    "    result = adfuller(time_series)\n",
    "    print(\"Augmented Dicky-fuller Test\")\n",
    "    labels = ['ADF Test Statistics','p-value','Number  of lags' , 'Num of Observation used']\n",
    "    \n",
    "    for value,label in zip(result,labels):\n",
    "        print(label+ \" : \"+str(value))\n",
    "        \n",
    "    if result[1] <= 0.05: # result[1] is index of result printed above, which is 'p' value\n",
    "        print(\"Strong evidence against null hypothesis\")\n",
    "        print('reject null hypothesis')\n",
    "        print('Data has no unit root and is stationery')\n",
    "    else:\n",
    "        print(\"Weak evidence against null hypothesis\")\n",
    "        print('Fail to reject null hypothesis')\n",
    "        print(\"Data has a unit root, and is non-stationary\")"
   ]
  },
  {
   "cell_type": "code",
   "execution_count": 26,
   "id": "8a41ee49-4522-4106-951b-c67b72667fa2",
   "metadata": {},
   "outputs": [
    {
     "name": "stdout",
     "output_type": "stream",
     "text": [
      "Augmented Dicky-fuller Test\n",
      "ADF Test Statistics : -1.3038115874221294\n",
      "p-value : 0.6274267086030316\n",
      "Number  of lags : 13\n",
      "Num of Observation used : 154\n",
      "Weak evidence against null hypothesis\n",
      "Fail to reject null hypothesis\n",
      "Data has a unit root, and is non-stationary\n"
     ]
    }
   ],
   "source": [
    "adf_check(df['Milk in Pounds Per Cow'])"
   ]
  },
  {
   "cell_type": "markdown",
   "id": "6a68e971-1df5-4191-bc21-0703184d844e",
   "metadata": {},
   "source": [
    "___________\n",
    "\n",
    "## Important Note!\n",
    "\n",
    "** We have now realized that our data is seasonal (it is also pretty obvious from the plot itself). This means we need to use Seasonal ARIMA on our model. If our data was not seasonal, it means we could use just ARIMA on it. We will take this into account when differencing our data! Typically financial stock data won't be seasonal, but that is kind of the point of this section, to show you common methods, that won't work well on stock finance data!**\n",
    "\n",
    "_____"
   ]
  },
  {
   "cell_type": "markdown",
   "id": "88986ea2-c05b-4202-b83a-11a67ef372c4",
   "metadata": {},
   "source": [
    "## Differencing\n",
    "\n",
    "The first difference of a time series is the series of changes from one period to the next. We can do this easily with pandas. You can continue to take the second difference, third difference, and so on until your data is stationary."
   ]
  },
  {
   "cell_type": "code",
   "execution_count": 27,
   "id": "db895bb6-d864-4b50-b8f1-e604c66d74c3",
   "metadata": {},
   "outputs": [
    {
     "data": {
      "text/html": [
       "<div>\n",
       "<style scoped>\n",
       "    .dataframe tbody tr th:only-of-type {\n",
       "        vertical-align: middle;\n",
       "    }\n",
       "\n",
       "    .dataframe tbody tr th {\n",
       "        vertical-align: top;\n",
       "    }\n",
       "\n",
       "    .dataframe thead th {\n",
       "        text-align: right;\n",
       "    }\n",
       "</style>\n",
       "<table border=\"1\" class=\"dataframe\">\n",
       "  <thead>\n",
       "    <tr style=\"text-align: right;\">\n",
       "      <th></th>\n",
       "      <th>Milk in Pounds Per Cow</th>\n",
       "      <th>First Difference</th>\n",
       "    </tr>\n",
       "    <tr>\n",
       "      <th>Month</th>\n",
       "      <th></th>\n",
       "      <th></th>\n",
       "    </tr>\n",
       "  </thead>\n",
       "  <tbody>\n",
       "    <tr>\n",
       "      <th>1962-01-01</th>\n",
       "      <td>589.0</td>\n",
       "      <td>NaN</td>\n",
       "    </tr>\n",
       "    <tr>\n",
       "      <th>1962-02-01</th>\n",
       "      <td>561.0</td>\n",
       "      <td>-28.0</td>\n",
       "    </tr>\n",
       "    <tr>\n",
       "      <th>1962-03-01</th>\n",
       "      <td>640.0</td>\n",
       "      <td>79.0</td>\n",
       "    </tr>\n",
       "    <tr>\n",
       "      <th>1962-04-01</th>\n",
       "      <td>656.0</td>\n",
       "      <td>16.0</td>\n",
       "    </tr>\n",
       "    <tr>\n",
       "      <th>1962-05-01</th>\n",
       "      <td>727.0</td>\n",
       "      <td>71.0</td>\n",
       "    </tr>\n",
       "    <tr>\n",
       "      <th>...</th>\n",
       "      <td>...</td>\n",
       "      <td>...</td>\n",
       "    </tr>\n",
       "    <tr>\n",
       "      <th>1975-08-01</th>\n",
       "      <td>858.0</td>\n",
       "      <td>-38.0</td>\n",
       "    </tr>\n",
       "    <tr>\n",
       "      <th>1975-09-01</th>\n",
       "      <td>817.0</td>\n",
       "      <td>-41.0</td>\n",
       "    </tr>\n",
       "    <tr>\n",
       "      <th>1975-10-01</th>\n",
       "      <td>827.0</td>\n",
       "      <td>10.0</td>\n",
       "    </tr>\n",
       "    <tr>\n",
       "      <th>1975-11-01</th>\n",
       "      <td>797.0</td>\n",
       "      <td>-30.0</td>\n",
       "    </tr>\n",
       "    <tr>\n",
       "      <th>1975-12-01</th>\n",
       "      <td>843.0</td>\n",
       "      <td>46.0</td>\n",
       "    </tr>\n",
       "  </tbody>\n",
       "</table>\n",
       "<p>168 rows × 2 columns</p>\n",
       "</div>"
      ],
      "text/plain": [
       "            Milk in Pounds Per Cow  First Difference\n",
       "Month                                               \n",
       "1962-01-01                   589.0               NaN\n",
       "1962-02-01                   561.0             -28.0\n",
       "1962-03-01                   640.0              79.0\n",
       "1962-04-01                   656.0              16.0\n",
       "1962-05-01                   727.0              71.0\n",
       "...                            ...               ...\n",
       "1975-08-01                   858.0             -38.0\n",
       "1975-09-01                   817.0             -41.0\n",
       "1975-10-01                   827.0              10.0\n",
       "1975-11-01                   797.0             -30.0\n",
       "1975-12-01                   843.0              46.0\n",
       "\n",
       "[168 rows x 2 columns]"
      ]
     },
     "execution_count": 27,
     "metadata": {},
     "output_type": "execute_result"
    }
   ],
   "source": [
    "#since it is non-stationary(which is visible from graph too) we procced \n",
    "# a step futher and calcculate step Differences\n",
    "\n",
    "df['First Difference'] = df['Milk in Pounds Per Cow']-df['Milk in Pounds Per Cow'].shift(1)\n",
    "df"
   ]
  },
  {
   "cell_type": "code",
   "execution_count": 28,
   "id": "3466652e-cabb-49cf-ac1c-394ad602a61a",
   "metadata": {},
   "outputs": [
    {
     "data": {
      "text/plain": [
       "<AxesSubplot:xlabel='Month'>"
      ]
     },
     "execution_count": 28,
     "metadata": {},
     "output_type": "execute_result"
    },
    {
     "data": {
      "image/png": "[encoded data removed]",
      "text/plain": [
       "<Figure size 432x288 with 1 Axes>"
      ]
     },
     "metadata": {
      "needs_background": "light"
     },
     "output_type": "display_data"
    }
   ],
   "source": [
    "df['First Difference'].plot()"
   ]
  },
  {
   "cell_type": "code",
   "execution_count": 29,
   "id": "d89d91b0-45c0-41a1-a90a-bebd09d0e2f6",
   "metadata": {},
   "outputs": [
    {
     "name": "stdout",
     "output_type": "stream",
     "text": [
      "Augmented Dicky-fuller Test\n",
      "ADF Test Statistics : -3.0549955586530704\n",
      "p-value : 0.030068004001785647\n",
      "Number  of lags : 14\n",
      "Num of Observation used : 152\n",
      "Strong evidence against null hypothesis\n",
      "reject null hypothesis\n",
      "Data has no unit root and is stationery\n"
     ]
    }
   ],
   "source": [
    "adf_check(df['First Difference'].dropna()) # we used dropna() because \n",
    "#our first row is has nan value as it has been shifted"
   ]
  },
  {
   "cell_type": "code",
   "execution_count": 30,
   "id": "ab542f97-7b5e-40b3-9936-4cd0bf6bb9ab",
   "metadata": {},
   "outputs": [],
   "source": [
    "#we have got our stationary value and don't need to proceed further \n",
    "#but incase if we get any data which don't get satisfied with first difference we need to \n",
    "#proceed further \n",
    "#it is just for illustration purpose\n",
    "df['Second Difference'] = df['First Difference']-df['First Difference'].shift(1)"
   ]
  },
  {
   "cell_type": "code",
   "execution_count": 31,
   "id": "f8a59fe2-7754-4bd5-b14a-868b0b093a3e",
   "metadata": {},
   "outputs": [
    {
     "data": {
      "text/plain": [
       "<AxesSubplot:xlabel='Month'>"
      ]
     },
     "execution_count": 31,
     "metadata": {},
     "output_type": "execute_result"
    },
    {
     "data": {
      "image/png": "[encoded data removed]",
      "text/plain": [
       "<Figure size 432x288 with 1 Axes>"
      ]
     },
     "metadata": {
      "needs_background": "light"
     },
     "output_type": "display_data"
    }
   ],
   "source": [
    "df['Second Difference'].plot()"
   ]
  },
  {
   "cell_type": "code",
   "execution_count": 32,
   "id": "c5f8f12b-ea7f-47e1-9a24-51e610d9fede",
   "metadata": {},
   "outputs": [
    {
     "name": "stdout",
     "output_type": "stream",
     "text": [
      "Augmented Dicky-fuller Test\n",
      "ADF Test Statistics : -14.327873645603301\n",
      "p-value : 1.1126989332084581e-26\n",
      "Number  of lags : 11\n",
      "Num of Observation used : 154\n",
      "Strong evidence against null hypothesis\n",
      "reject null hypothesis\n",
      "Data has no unit root and is stationery\n"
     ]
    }
   ],
   "source": [
    "adf_check(df['Second Difference'].dropna())"
   ]
  },
  {
   "cell_type": "code",
   "execution_count": 33,
   "id": "0acab0db-76b8-4f32-8f40-57b80ff9c190",
   "metadata": {},
   "outputs": [
    {
     "data": {
      "text/html": [
       "<div>\n",
       "<style scoped>\n",
       "    .dataframe tbody tr th:only-of-type {\n",
       "        vertical-align: middle;\n",
       "    }\n",
       "\n",
       "    .dataframe tbody tr th {\n",
       "        vertical-align: top;\n",
       "    }\n",
       "\n",
       "    .dataframe thead th {\n",
       "        text-align: right;\n",
       "    }\n",
       "</style>\n",
       "<table border=\"1\" class=\"dataframe\">\n",
       "  <thead>\n",
       "    <tr style=\"text-align: right;\">\n",
       "      <th></th>\n",
       "      <th>Milk in Pounds Per Cow</th>\n",
       "      <th>First Difference</th>\n",
       "      <th>Second Difference</th>\n",
       "      <th>Seasonal Difference</th>\n",
       "    </tr>\n",
       "    <tr>\n",
       "      <th>Month</th>\n",
       "      <th></th>\n",
       "      <th></th>\n",
       "      <th></th>\n",
       "      <th></th>\n",
       "    </tr>\n",
       "  </thead>\n",
       "  <tbody>\n",
       "    <tr>\n",
       "      <th>1962-01-01</th>\n",
       "      <td>589.0</td>\n",
       "      <td>NaN</td>\n",
       "      <td>NaN</td>\n",
       "      <td>NaN</td>\n",
       "    </tr>\n",
       "    <tr>\n",
       "      <th>1962-02-01</th>\n",
       "      <td>561.0</td>\n",
       "      <td>-28.0</td>\n",
       "      <td>NaN</td>\n",
       "      <td>NaN</td>\n",
       "    </tr>\n",
       "    <tr>\n",
       "      <th>1962-03-01</th>\n",
       "      <td>640.0</td>\n",
       "      <td>79.0</td>\n",
       "      <td>107.0</td>\n",
       "      <td>NaN</td>\n",
       "    </tr>\n",
       "    <tr>\n",
       "      <th>1962-04-01</th>\n",
       "      <td>656.0</td>\n",
       "      <td>16.0</td>\n",
       "      <td>-63.0</td>\n",
       "      <td>NaN</td>\n",
       "    </tr>\n",
       "    <tr>\n",
       "      <th>1962-05-01</th>\n",
       "      <td>727.0</td>\n",
       "      <td>71.0</td>\n",
       "      <td>55.0</td>\n",
       "      <td>NaN</td>\n",
       "    </tr>\n",
       "    <tr>\n",
       "      <th>...</th>\n",
       "      <td>...</td>\n",
       "      <td>...</td>\n",
       "      <td>...</td>\n",
       "      <td>...</td>\n",
       "    </tr>\n",
       "    <tr>\n",
       "      <th>1975-08-01</th>\n",
       "      <td>858.0</td>\n",
       "      <td>-38.0</td>\n",
       "      <td>3.0</td>\n",
       "      <td>-9.0</td>\n",
       "    </tr>\n",
       "    <tr>\n",
       "      <th>1975-09-01</th>\n",
       "      <td>817.0</td>\n",
       "      <td>-41.0</td>\n",
       "      <td>-3.0</td>\n",
       "      <td>2.0</td>\n",
       "    </tr>\n",
       "    <tr>\n",
       "      <th>1975-10-01</th>\n",
       "      <td>827.0</td>\n",
       "      <td>10.0</td>\n",
       "      <td>51.0</td>\n",
       "      <td>15.0</td>\n",
       "    </tr>\n",
       "    <tr>\n",
       "      <th>1975-11-01</th>\n",
       "      <td>797.0</td>\n",
       "      <td>-30.0</td>\n",
       "      <td>-40.0</td>\n",
       "      <td>24.0</td>\n",
       "    </tr>\n",
       "    <tr>\n",
       "      <th>1975-12-01</th>\n",
       "      <td>843.0</td>\n",
       "      <td>46.0</td>\n",
       "      <td>76.0</td>\n",
       "      <td>30.0</td>\n",
       "    </tr>\n",
       "  </tbody>\n",
       "</table>\n",
       "<p>168 rows × 4 columns</p>\n",
       "</div>"
      ],
      "text/plain": [
       "            Milk in Pounds Per Cow  First Difference  Second Difference  \\\n",
       "Month                                                                     \n",
       "1962-01-01                   589.0               NaN                NaN   \n",
       "1962-02-01                   561.0             -28.0                NaN   \n",
       "1962-03-01                   640.0              79.0              107.0   \n",
       "1962-04-01                   656.0              16.0              -63.0   \n",
       "1962-05-01                   727.0              71.0               55.0   \n",
       "...                            ...               ...                ...   \n",
       "1975-08-01                   858.0             -38.0                3.0   \n",
       "1975-09-01                   817.0             -41.0               -3.0   \n",
       "1975-10-01                   827.0              10.0               51.0   \n",
       "1975-11-01                   797.0             -30.0              -40.0   \n",
       "1975-12-01                   843.0              46.0               76.0   \n",
       "\n",
       "            Seasonal Difference  \n",
       "Month                            \n",
       "1962-01-01                  NaN  \n",
       "1962-02-01                  NaN  \n",
       "1962-03-01                  NaN  \n",
       "1962-04-01                  NaN  \n",
       "1962-05-01                  NaN  \n",
       "...                         ...  \n",
       "1975-08-01                 -9.0  \n",
       "1975-09-01                  2.0  \n",
       "1975-10-01                 15.0  \n",
       "1975-11-01                 24.0  \n",
       "1975-12-01                 30.0  \n",
       "\n",
       "[168 rows x 4 columns]"
      ]
     },
     "execution_count": 33,
     "metadata": {},
     "output_type": "execute_result"
    }
   ],
   "source": [
    "df['Seasonal Difference'] = df['Milk in Pounds Per Cow']-df['Milk in Pounds Per Cow'].shift(12)\n",
    "df"
   ]
  },
  {
   "cell_type": "code",
   "execution_count": 34,
   "id": "6dad2352-45fc-47cd-92ad-a0f910f77174",
   "metadata": {},
   "outputs": [
    {
     "data": {
      "text/plain": [
       "<AxesSubplot:xlabel='Month'>"
      ]
     },
     "execution_count": 34,
     "metadata": {},
     "output_type": "execute_result"
    },
    {
     "data": {
      "image/png": "[encoded data removed]",
      "text/plain": [
       "<Figure size 432x288 with 1 Axes>"
      ]
     },
     "metadata": {
      "needs_background": "light"
     },
     "output_type": "display_data"
    }
   ],
   "source": [
    "df['Seasonal Difference'].plot()"
   ]
  },
  {
   "cell_type": "code",
   "execution_count": 35,
   "id": "d9a85892-d663-496a-8650-e6cd4e07f15a",
   "metadata": {},
   "outputs": [
    {
     "data": {
      "text/html": [
       "<div>\n",
       "<style scoped>\n",
       "    .dataframe tbody tr th:only-of-type {\n",
       "        vertical-align: middle;\n",
       "    }\n",
       "\n",
       "    .dataframe tbody tr th {\n",
       "        vertical-align: top;\n",
       "    }\n",
       "\n",
       "    .dataframe thead th {\n",
       "        text-align: right;\n",
       "    }\n",
       "</style>\n",
       "<table border=\"1\" class=\"dataframe\">\n",
       "  <thead>\n",
       "    <tr style=\"text-align: right;\">\n",
       "      <th></th>\n",
       "      <th>Milk in Pounds Per Cow</th>\n",
       "      <th>First Difference</th>\n",
       "      <th>Second Difference</th>\n",
       "      <th>Seasonal Difference</th>\n",
       "      <th>Seasonal First Difference</th>\n",
       "    </tr>\n",
       "    <tr>\n",
       "      <th>Month</th>\n",
       "      <th></th>\n",
       "      <th></th>\n",
       "      <th></th>\n",
       "      <th></th>\n",
       "      <th></th>\n",
       "    </tr>\n",
       "  </thead>\n",
       "  <tbody>\n",
       "    <tr>\n",
       "      <th>1962-01-01</th>\n",
       "      <td>589.0</td>\n",
       "      <td>NaN</td>\n",
       "      <td>NaN</td>\n",
       "      <td>NaN</td>\n",
       "      <td>NaN</td>\n",
       "    </tr>\n",
       "    <tr>\n",
       "      <th>1962-02-01</th>\n",
       "      <td>561.0</td>\n",
       "      <td>-28.0</td>\n",
       "      <td>NaN</td>\n",
       "      <td>NaN</td>\n",
       "      <td>NaN</td>\n",
       "    </tr>\n",
       "    <tr>\n",
       "      <th>1962-03-01</th>\n",
       "      <td>640.0</td>\n",
       "      <td>79.0</td>\n",
       "      <td>107.0</td>\n",
       "      <td>NaN</td>\n",
       "      <td>NaN</td>\n",
       "    </tr>\n",
       "    <tr>\n",
       "      <th>1962-04-01</th>\n",
       "      <td>656.0</td>\n",
       "      <td>16.0</td>\n",
       "      <td>-63.0</td>\n",
       "      <td>NaN</td>\n",
       "      <td>NaN</td>\n",
       "    </tr>\n",
       "    <tr>\n",
       "      <th>1962-05-01</th>\n",
       "      <td>727.0</td>\n",
       "      <td>71.0</td>\n",
       "      <td>55.0</td>\n",
       "      <td>NaN</td>\n",
       "      <td>NaN</td>\n",
       "    </tr>\n",
       "    <tr>\n",
       "      <th>...</th>\n",
       "      <td>...</td>\n",
       "      <td>...</td>\n",
       "      <td>...</td>\n",
       "      <td>...</td>\n",
       "      <td>...</td>\n",
       "    </tr>\n",
       "    <tr>\n",
       "      <th>1975-08-01</th>\n",
       "      <td>858.0</td>\n",
       "      <td>-38.0</td>\n",
       "      <td>3.0</td>\n",
       "      <td>-9.0</td>\n",
       "      <td>3.0</td>\n",
       "    </tr>\n",
       "    <tr>\n",
       "      <th>1975-09-01</th>\n",
       "      <td>817.0</td>\n",
       "      <td>-41.0</td>\n",
       "      <td>-3.0</td>\n",
       "      <td>2.0</td>\n",
       "      <td>11.0</td>\n",
       "    </tr>\n",
       "    <tr>\n",
       "      <th>1975-10-01</th>\n",
       "      <td>827.0</td>\n",
       "      <td>10.0</td>\n",
       "      <td>51.0</td>\n",
       "      <td>15.0</td>\n",
       "      <td>13.0</td>\n",
       "    </tr>\n",
       "    <tr>\n",
       "      <th>1975-11-01</th>\n",
       "      <td>797.0</td>\n",
       "      <td>-30.0</td>\n",
       "      <td>-40.0</td>\n",
       "      <td>24.0</td>\n",
       "      <td>9.0</td>\n",
       "    </tr>\n",
       "    <tr>\n",
       "      <th>1975-12-01</th>\n",
       "      <td>843.0</td>\n",
       "      <td>46.0</td>\n",
       "      <td>76.0</td>\n",
       "      <td>30.0</td>\n",
       "      <td>6.0</td>\n",
       "    </tr>\n",
       "  </tbody>\n",
       "</table>\n",
       "<p>168 rows × 5 columns</p>\n",
       "</div>"
      ],
      "text/plain": [
       "            Milk in Pounds Per Cow  First Difference  Second Difference  \\\n",
       "Month                                                                     \n",
       "1962-01-01                   589.0               NaN                NaN   \n",
       "1962-02-01                   561.0             -28.0                NaN   \n",
       "1962-03-01                   640.0              79.0              107.0   \n",
       "1962-04-01                   656.0              16.0              -63.0   \n",
       "1962-05-01                   727.0              71.0               55.0   \n",
       "...                            ...               ...                ...   \n",
       "1975-08-01                   858.0             -38.0                3.0   \n",
       "1975-09-01                   817.0             -41.0               -3.0   \n",
       "1975-10-01                   827.0              10.0               51.0   \n",
       "1975-11-01                   797.0             -30.0              -40.0   \n",
       "1975-12-01                   843.0              46.0               76.0   \n",
       "\n",
       "            Seasonal Difference  Seasonal First Difference  \n",
       "Month                                                       \n",
       "1962-01-01                  NaN                        NaN  \n",
       "1962-02-01                  NaN                        NaN  \n",
       "1962-03-01                  NaN                        NaN  \n",
       "1962-04-01                  NaN                        NaN  \n",
       "1962-05-01                  NaN                        NaN  \n",
       "...                         ...                        ...  \n",
       "1975-08-01                 -9.0                        3.0  \n",
       "1975-09-01                  2.0                       11.0  \n",
       "1975-10-01                 15.0                       13.0  \n",
       "1975-11-01                 24.0                        9.0  \n",
       "1975-12-01                 30.0                        6.0  \n",
       "\n",
       "[168 rows x 5 columns]"
      ]
     },
     "execution_count": 35,
     "metadata": {},
     "output_type": "execute_result"
    }
   ],
   "source": [
    "df['Seasonal First Difference'] = df['First Difference']-df['First Difference'].shift(12)\n",
    "df"
   ]
  },
  {
   "cell_type": "code",
   "execution_count": 36,
   "id": "b1451d78-8831-4f1c-a3c7-eaff4b1399aa",
   "metadata": {},
   "outputs": [
    {
     "data": {
      "text/plain": [
       "<AxesSubplot:xlabel='Month'>"
      ]
     },
     "execution_count": 36,
     "metadata": {},
     "output_type": "execute_result"
    },
    {
     "data": {
      "image/png": "[encoded data removed]",
      "text/plain": [
       "<Figure size 432x288 with 1 Axes>"
      ]
     },
     "metadata": {
      "needs_background": "light"
     },
     "output_type": "display_data"
    }
   ],
   "source": [
    "df['Seasonal First Difference'].plot()"
   ]
  },
  {
   "cell_type": "markdown",
   "id": "3726b8f4-19dd-4006-af48-344d83fe5056",
   "metadata": {},
   "source": [
    "# Autocorrelation and Partial Autocorrelation Plots\n",
    "\n",
    "An autocorrelation plot (also known as a [Correlogram](https://en.wikipedia.org/wiki/Correlogram) ) shows the correlation of the series with itself, lagged by x time units. So the y axis is the correlation and the x axis is the number of time units of lag.\n",
    "\n",
    "So imagine taking your time series of length T, copying it, and deleting the first observation of copy #1 and the last observation of copy #2. Now you have two series of length T−1 for which you calculate a correlation coefficient. This is the value of of the vertical axis at x=1x=1 in your plots. It represents the correlation of the series lagged by one time unit. You go on and do this for all possible time lags x and this defines the plot.\n",
    "\n",
    "You will run these plots on your differenced/stationary data. There is a lot of great information for identifying and interpreting ACF and PACF [here](http://people.duke.edu/~rnau/arimrule.htm) and [here](https://people.duke.edu/~rnau/411arim3.htm).\n",
    "\n",
    "### Autocorrelation Interpretation\n",
    "\n",
    "The actual interpretation and how it relates to ARIMA models can get a bit complicated, but there are some basic common methods we can use for the ARIMA model. Our main priority here is to try to figure out whether we will use the AR or MA components for the ARIMA model (or both!) as well as how many lags we should use. In general you would use either AR or MA, using both is less common.\n",
    "\n",
    "* If the autocorrelation plot shows positive autocorrelation at the first lag (lag-1), then it suggests to use the AR terms in relation to the lag\n",
    "\n",
    "* If the autocorrelation plot shows negative autocorrelation at the first lag, then it suggests using MA terms."
   ]
  },
  {
   "cell_type": "markdown",
   "id": "4407dcc3-ed90-4ba3-930e-509967a5999d",
   "metadata": {},
   "source": [
    "_____\n",
    "### <font color='red'> Important Note! </font> \n",
    "\n",
    "Here we will be showing running the ACF and PACF on multiple differenced data sets that have been made stationary in different ways, typically you would just choose a single stationary data set and continue all the way through with that.\n",
    "\n",
    "The reason we use two here is to show you the two typical types of behaviour you would see when using ACF.\n",
    "_____"
   ]
  },
  {
   "cell_type": "code",
   "execution_count": 37,
   "id": "38b81fc4-40f8-4d32-889b-e1243d7ba330",
   "metadata": {},
   "outputs": [],
   "source": [
    "from statsmodels.graphics.tsaplots import plot_acf,plot_pacf"
   ]
  },
  {
   "cell_type": "code",
   "execution_count": 38,
   "id": "2dcc9119-d9da-4ed7-b84a-70aaaa67f444",
   "metadata": {},
   "outputs": [
    {
     "data": {
      "image/png": "[encoded data removed]",
      "text/plain": [
       "<Figure size 432x288 with 1 Axes>"
      ]
     },
     "metadata": {
      "needs_background": "light"
     },
     "output_type": "display_data"
    }
   ],
   "source": [
    "fig_first = plot_acf(df[\"First Difference\"].dropna())"
   ]
  },
  {
   "cell_type": "code",
   "execution_count": 39,
   "id": "5d91bdff-2b30-4361-b5b7-32bb28085c4a",
   "metadata": {},
   "outputs": [
    {
     "data": {
      "image/png": "[encoded data removed]",
      "text/plain": [
       "<Figure size 432x288 with 1 Axes>"
      ]
     },
     "metadata": {
      "needs_background": "light"
     },
     "output_type": "display_data"
    }
   ],
   "source": [
    "fig_seasonal_first = plot_acf(df[\"Seasonal First Difference\"].dropna())"
   ]
  },
  {
   "cell_type": "markdown",
   "id": "d522f9f8-8751-4f14-9bb5-552c3710059c",
   "metadata": {},
   "source": [
    "Pandas also has this functionality built in, but only for ACF, not PACF. So It is recommend using statsmodels, as ACF and PACF is more core to its functionality than it is to pandas' functionality."
   ]
  },
  {
   "cell_type": "code",
   "execution_count": 40,
   "id": "b2483033-3e02-4ad7-9cce-5823a24eaacc",
   "metadata": {},
   "outputs": [
    {
     "data": {
      "text/plain": [
       "<AxesSubplot:xlabel='Lag', ylabel='Autocorrelation'>"
      ]
     },
     "execution_count": 40,
     "metadata": {},
     "output_type": "execute_result"
    },
    {
     "data": {
      "image/png": "[encoded data removed]",
      "text/plain": [
       "<Figure size 432x288 with 1 Axes>"
      ]
     },
     "metadata": {
      "needs_background": "light"
     },
     "output_type": "display_data"
    }
   ],
   "source": [
    "from pandas.plotting import autocorrelation_plot\n",
    "autocorrelation_plot(df['Seasonal First Difference'].dropna())"
   ]
  },
  {
   "cell_type": "markdown",
   "id": "0629a46b-7535-4cab-bc16-affe9d9aa525",
   "metadata": {},
   "source": [
    "## Partial Autocorrelation\n",
    "\n",
    "In general, a partial correlation is a conditional correlation.\n",
    "\n",
    "It is the correlation between two variables under the assumption that we know and take into account the values of some other set of variables.\n",
    "\n",
    "For instance, consider a regression context in which y = response variable and x1, x2, and x3 are predictor variables.  The partial correlation between y and x3 is the correlation between the variables determined taking into account how both y and x3 are related to x1 and x2.\n",
    "\n",
    "Formally, this is relationship is defined as:\n",
    "\n",
    "## $\\frac{\\text{Covariance}(y, x_3|x_1, x_2)}{\\sqrt{\\text{Variance}(y|x_1, x_2)\\text{Variance}(x_3| x_1, x_2)}}$\n",
    "\n",
    "Check out this [link](http://www.itl.nist.gov/div898/handbook/pmc/section4/pmc4463.htm) for full details on this."
   ]
  },
  {
   "cell_type": "code",
   "execution_count": 41,
   "id": "b183046f-2ac8-42c4-9277-d7b1609c0c8d",
   "metadata": {},
   "outputs": [
    {
     "data": {
      "image/png": "[encoded data removed]",
      "text/plain": [
       "<Figure size 432x288 with 1 Axes>"
      ]
     },
     "metadata": {
      "needs_background": "light"
     },
     "output_type": "display_data"
    }
   ],
   "source": [
    "result = plot_pacf(df[\"Seasonal First Difference\"].dropna())"
   ]
  },
  {
   "cell_type": "markdown",
   "id": "7c3737f7-aa68-46da-a219-586459d44d3c",
   "metadata": {},
   "source": [
    "### Interpretation\n",
    "\n",
    "Typically a sharp drop after lag \"k\" suggests an AR-k model should be used. If there is a gradual decline, it suggests an MA model."
   ]
  },
  {
   "cell_type": "markdown",
   "id": "9e9997aa-d902-4045-b7a9-796aac1583b3",
   "metadata": {},
   "source": [
    "### Final Thoughts on Autocorrelation and Partial Autocorrelation\n",
    "\n",
    "* Identification of an AR model is often best done with the PACF.\n",
    "    * For an AR model, the theoretical PACF “shuts off” past the order of the model.  The phrase “shuts off” means that in theory the partial autocorrelations are equal to 0 beyond that point.  Put another way, the number of non-zero partial autocorrelations gives the order of the AR model.  By the “order of the model” we mean the most extreme lag of x that is used as a predictor.\n",
    "    \n",
    "    \n",
    "* Identification of an MA model is often best done with the ACF rather than the PACF.\n",
    "    * For an MA model, the theoretical PACF does not shut off, but instead tapers toward 0 in some manner.  A clearer pattern for an MA model is in the ACF.  The ACF will have non-zero autocorrelations only at lags involved in the model."
   ]
  },
  {
   "cell_type": "markdown",
   "id": "bdb44018-0649-40f8-bf32-fb8d8012fc31",
   "metadata": {},
   "source": [
    "_____\n",
    "### Final ACF and PACF Plots\n",
    "\n",
    "We've run quite a few plots, so let's just quickly get our \"final\" ACF and PACF plots. These are the ones we will be referencing in the rest of the notebook below.\n",
    "_____"
   ]
  },
  {
   "cell_type": "code",
   "execution_count": 42,
   "id": "899a022d-7f1f-4c4f-a195-751470e0c90c",
   "metadata": {},
   "outputs": [
    {
     "data": {
      "image/png": "[encoded data removed]",
      "text/plain": [
       "<Figure size 864x576 with 2 Axes>"
      ]
     },
     "metadata": {
      "needs_background": "light"
     },
     "output_type": "display_data"
    }
   ],
   "source": [
    "fig = plt.figure(figsize=(12,8))\n",
    "ax1 = fig.add_subplot(211)\n",
    "fig = sm.graphics.tsa.plot_acf(df['Seasonal First Difference'].iloc[13:], lags=40, ax=ax1)\n",
    "ax2 = fig.add_subplot(212)\n",
    "fig = sm.graphics.tsa.plot_pacf(df['Seasonal First Difference'].iloc[13:], lags=40, ax=ax2)"
   ]
  },
  {
   "cell_type": "markdown",
   "id": "9174366a-7f19-471a-ac05-761229acaeb5",
   "metadata": {},
   "source": [
    "## Using the Seasonal ARIMA model\n",
    "\n",
    "Finally we can use our ARIMA model now that we have an understanding of our data!"
   ]
  },
  {
   "cell_type": "code",
   "execution_count": 43,
   "id": "bdaec208-785f-4d04-9564-2d8759c91782",
   "metadata": {},
   "outputs": [],
   "source": [
    "# For non-seasonal data\n",
    "from statsmodels.tsa.arima_model import ARIMA"
   ]
  },
  {
   "cell_type": "code",
   "execution_count": 44,
   "id": "a319d34b-1ace-4f5d-a53e-261b788c6284",
   "metadata": {},
   "outputs": [
    {
     "name": "stdout",
     "output_type": "stream",
     "text": [
      "Help on class ARIMA in module statsmodels.tsa.arima_model:\n",
      "\n",
      "class ARIMA(ARMA)\n",
      " |  ARIMA(endog, order, exog=None, dates=None, freq=None, missing='none')\n",
      " |  \n",
      " |  Autoregressive Integrated Moving Average ARIMA(p,d,q) Model\n",
      " |  \n",
      " |  .. deprecated:: 0.12\n",
      " |     Use statsmodels.tsa.arima.model.ARIMA instead\n",
      " |  \n",
      " |  Parameters\n",
      " |  ----------\n",
      " |  endog : array_like\n",
      " |      The endogenous variable.\n",
      " |  order : iterable\n",
      " |      The (p,d,q) order of the model for the number of AR parameters,\n",
      " |      differences, and MA parameters to use.\n",
      " |  exog : array_like, optional\n",
      " |      An optional array of exogenous variables. This should *not* include a\n",
      " |      constant or trend. You can specify this in the `fit` method.\n",
      " |  dates : array_like, optional\n",
      " |      An array-like object of datetime objects. If a pandas object is given\n",
      " |      for endog or exog, it is assumed to have a DateIndex.\n",
      " |  freq : str, optional\n",
      " |      The frequency of the time-series. A Pandas offset or 'B', 'D', 'W',\n",
      " |      'M', 'A', or 'Q'. This is optional if dates are given.\n",
      " |  \n",
      " |  \n",
      " |  Notes\n",
      " |  -----\n",
      " |  If exogenous variables are given, then the model that is fit is\n",
      " |  \n",
      " |  .. math::\n",
      " |  \n",
      " |     \\phi(L)(y_t - X_t\\beta) = \\theta(L)\\epsilon_t\n",
      " |  \n",
      " |  where :math:`\\phi` and :math:`\\theta` are polynomials in the lag\n",
      " |  operator, :math:`L`. This is the regression model with ARMA errors,\n",
      " |  or ARMAX model. This specification is used, whether or not the model\n",
      " |  is fit using conditional sum of square or maximum-likelihood, using\n",
      " |  the `method` argument in\n",
      " |  :meth:`statsmodels.tsa.arima_model.ARIMA.fit`. Therefore, for\n",
      " |  now, `css` and `mle` refer to estimation methods only. This may\n",
      " |  change for the case of the `css` model in future versions.\n",
      " |  \n",
      " |  Method resolution order:\n",
      " |      ARIMA\n",
      " |      ARMA\n",
      " |      statsmodels.tsa.base.tsa_model.TimeSeriesModel\n",
      " |      statsmodels.base.model.LikelihoodModel\n",
      " |      statsmodels.base.model.Model\n",
      " |      builtins.object\n",
      " |  \n",
      " |  Methods defined here:\n",
      " |  \n",
      " |  __getnewargs__(self)\n",
      " |  \n",
      " |  __init__(self, endog, order, exog=None, dates=None, freq=None, missing='none')\n",
      " |      Initialize self.  See help(type(self)) for accurate signature.\n",
      " |  \n",
      " |  fit(self, start_params=None, trend='c', method='css-mle', transparams=True, solver='lbfgs', maxiter=500, full_output=1, disp=5, callback=None, start_ar_lags=None, **kwargs)\n",
      " |      Fits ARIMA(p,d,q) model by exact maximum likelihood via Kalman filter.\n",
      " |      \n",
      " |      Parameters\n",
      " |      ----------\n",
      " |      start_params : array_like, optional\n",
      " |          Starting parameters for ARMA(p,q).  If None, the default is given\n",
      " |          by ARMA._fit_start_params.  See there for more information.\n",
      " |      transparams : bool, optional\n",
      " |          Whether or not to transform the parameters to ensure stationarity.\n",
      " |          Uses the transformation suggested in Jones (1980).  If False,\n",
      " |          no checking for stationarity or invertibility is done.\n",
      " |      method : str {'css-mle','mle','css'}\n",
      " |          This is the loglikelihood to maximize.  If \"css-mle\", the\n",
      " |          conditional sum of squares likelihood is maximized and its values\n",
      " |          are used as starting values for the computation of the exact\n",
      " |          likelihood via the Kalman filter.  If \"mle\", the exact likelihood\n",
      " |          is maximized via the Kalman Filter.  If \"css\" the conditional sum\n",
      " |          of squares likelihood is maximized.  All three methods use\n",
      " |          `start_params` as starting parameters.  See above for more\n",
      " |          information.\n",
      " |      trend : str {'c','nc'}\n",
      " |          Whether to include a constant or not.  'c' includes constant,\n",
      " |          'nc' no constant.\n",
      " |      solver : str or None, optional\n",
      " |          Solver to be used.  The default is 'lbfgs' (limited memory\n",
      " |          Broyden-Fletcher-Goldfarb-Shanno).  Other choices are 'bfgs',\n",
      " |          'newton' (Newton-Raphson), 'nm' (Nelder-Mead), 'cg' -\n",
      " |          (conjugate gradient), 'ncg' (non-conjugate gradient), and\n",
      " |          'powell'. By default, the limited memory BFGS uses m=12 to\n",
      " |          approximate the Hessian, projected gradient tolerance of 1e-8 and\n",
      " |          factr = 1e2. You can change these by using kwargs.\n",
      " |      maxiter : int, optional\n",
      " |          The maximum number of function evaluations. Default is 500.\n",
      " |      tol : float\n",
      " |          The convergence tolerance.  Default is 1e-08.\n",
      " |      full_output : bool, optional\n",
      " |          If True, all output from solver will be available in\n",
      " |          the Results object's mle_retvals attribute.  Output is dependent\n",
      " |          on the solver.  See Notes for more information.\n",
      " |      disp : int, optional\n",
      " |          If True, convergence information is printed.  For the default\n",
      " |          l_bfgs_b solver, disp controls the frequency of the output during\n",
      " |          the iterations. disp < 0 means no output in this case.\n",
      " |      callback : function, optional\n",
      " |          Called after each iteration as callback(xk) where xk is the current\n",
      " |          parameter vector.\n",
      " |      start_ar_lags : int, optional\n",
      " |          Parameter for fitting start_params. When fitting start_params,\n",
      " |          residuals are obtained from an AR fit, then an ARMA(p,q) model is\n",
      " |          fit via OLS using these residuals. If start_ar_lags is None, fit\n",
      " |          an AR process according to best BIC. If start_ar_lags is not None,\n",
      " |          fits an AR process with a lag length equal to start_ar_lags.\n",
      " |          See ARMA._fit_start_params_hr for more information.\n",
      " |      **kwargs\n",
      " |          See Notes for keyword arguments that can be passed to fit.\n",
      " |      \n",
      " |      Returns\n",
      " |      -------\n",
      " |      `statsmodels.tsa.arima.ARIMAResults` class\n",
      " |      \n",
      " |      See Also\n",
      " |      --------\n",
      " |      statsmodels.base.model.LikelihoodModel.fit : for more information\n",
      " |          on using the solvers.\n",
      " |      ARIMAResults : results class returned by fit\n",
      " |      \n",
      " |      Notes\n",
      " |      -----\n",
      " |      If fit by 'mle', it is assumed for the Kalman Filter that the initial\n",
      " |      unknown state is zero, and that the initial variance is\n",
      " |      P = dot(inv(identity(m**2)-kron(T,T)),dot(R,R.T).ravel('F')).reshape(r,\n",
      " |      r, order = 'F')\n",
      " |  \n",
      " |  predict(self, params, start=None, end=None, exog=None, typ='linear', dynamic=False)\n",
      " |      ARIMA model in-sample and out-of-sample prediction\n",
      " |      \n",
      " |      Parameters\n",
      " |      ----------\n",
      " |      params : array_like\n",
      " |          The fitted parameters of the model.\n",
      " |      start : int, str, or datetime\n",
      " |          Zero-indexed observation number at which to start forecasting, ie.,\n",
      " |          the first forecast is start. Can also be a date string to\n",
      " |          parse or a datetime type.\n",
      " |      end : int, str, or datetime\n",
      " |          Zero-indexed observation number at which to end forecasting, ie.,\n",
      " |          the first forecast is start. Can also be a date string to\n",
      " |          parse or a datetime type. However, if the dates index does not\n",
      " |          have a fixed frequency, end must be an integer index if you\n",
      " |          want out of sample prediction.\n",
      " |      exog : array_like, optional\n",
      " |          If the model is an ARMAX and out-of-sample forecasting is\n",
      " |          requested, exog must be given. exog must be aligned so that exog[0]\n",
      " |          is used to produce the first out-of-sample forecast. The number of\n",
      " |          observation in exog should match the number of out-of-sample\n",
      " |          forecasts produced. If the length of exog does not match the number\n",
      " |          of forecasts, a SpecificationWarning is produced.\n",
      " |      dynamic : bool, optional\n",
      " |          The `dynamic` keyword affects in-sample prediction. If dynamic\n",
      " |          is False, then the in-sample lagged values are used for\n",
      " |          prediction. If `dynamic` is True, then in-sample forecasts are\n",
      " |          used in place of lagged dependent variables. The first forecast\n",
      " |          value is `start`.\n",
      " |      typ : str {'linear', 'levels'}\n",
      " |      \n",
      " |          - 'linear' : Linear prediction in terms of the differenced\n",
      " |            endogenous variables.\n",
      " |          - 'levels' : Predict the levels of the original endogenous\n",
      " |            variables.\n",
      " |      \n",
      " |      \n",
      " |      Returns\n",
      " |      -------\n",
      " |      predict : ndarray\n",
      " |          The predicted values.\n",
      " |      \n",
      " |      \n",
      " |      \n",
      " |      Notes\n",
      " |      -----\n",
      " |      Use the results predict method instead.\n",
      " |  \n",
      " |  ----------------------------------------------------------------------\n",
      " |  Static methods defined here:\n",
      " |  \n",
      " |  __new__(cls, endog, order, exog=None, dates=None, freq=None, missing='none')\n",
      " |      Create and return a new object.  See help(type) for accurate signature.\n",
      " |  \n",
      " |  ----------------------------------------------------------------------\n",
      " |  Methods inherited from ARMA:\n",
      " |  \n",
      " |  geterrors(self, params)\n",
      " |      Get the errors of the ARMA process.\n",
      " |      \n",
      " |      Parameters\n",
      " |      ----------\n",
      " |      params : array_like\n",
      " |          The fitted ARMA parameters\n",
      " |      order : array_like\n",
      " |          3 item iterable, with the number of AR, MA, and exogenous\n",
      " |          parameters, including the trend\n",
      " |  \n",
      " |  hessian(self, params)\n",
      " |      Compute the Hessian at params,\n",
      " |      \n",
      " |      Notes\n",
      " |      -----\n",
      " |      This is a numerical approximation.\n",
      " |  \n",
      " |  loglike(self, params, set_sigma2=True)\n",
      " |      Compute the log-likelihood for ARMA(p,q) model\n",
      " |      \n",
      " |      Notes\n",
      " |      -----\n",
      " |      Likelihood used depends on the method set in fit\n",
      " |  \n",
      " |  loglike_css(self, params, set_sigma2=True)\n",
      " |      Conditional Sum of Squares likelihood function.\n",
      " |  \n",
      " |  loglike_kalman(self, params, set_sigma2=True)\n",
      " |      Compute exact loglikelihood for ARMA(p,q) model by the Kalman Filter.\n",
      " |  \n",
      " |  score(self, params)\n",
      " |      Compute the score function at params.\n",
      " |      \n",
      " |      Notes\n",
      " |      -----\n",
      " |      This is a numerical approximation.\n",
      " |  \n",
      " |  ----------------------------------------------------------------------\n",
      " |  Class methods inherited from ARMA:\n",
      " |  \n",
      " |  from_formula(formula, data, subset=None, drop_cols=None, *args, **kwargs) from builtins.type\n",
      " |      Create a Model from a formula and dataframe.\n",
      " |      \n",
      " |      Parameters\n",
      " |      ----------\n",
      " |      formula : str or generic Formula object\n",
      " |          The formula specifying the model.\n",
      " |      data : array_like\n",
      " |          The data for the model. See Notes.\n",
      " |      subset : array_like\n",
      " |          An array-like object of booleans, integers, or index values that\n",
      " |          indicate the subset of df to use in the model. Assumes df is a\n",
      " |          `pandas.DataFrame`.\n",
      " |      drop_cols : array_like\n",
      " |          Columns to drop from the design matrix.  Cannot be used to\n",
      " |          drop terms involving categoricals.\n",
      " |      *args\n",
      " |          Additional positional argument that are passed to the model.\n",
      " |      **kwargs\n",
      " |          These are passed to the model with one exception. The\n",
      " |          ``eval_env`` keyword is passed to patsy. It can be either a\n",
      " |          :class:`patsy:patsy.EvalEnvironment` object or an integer\n",
      " |          indicating the depth of the namespace to use. For example, the\n",
      " |          default ``eval_env=0`` uses the calling namespace. If you wish\n",
      " |          to use a \"clean\" environment set ``eval_env=-1``.\n",
      " |      \n",
      " |      Returns\n",
      " |      -------\n",
      " |      model\n",
      " |          The model instance.\n",
      " |      \n",
      " |      Notes\n",
      " |      -----\n",
      " |      data must define __getitem__ with the keys in the formula terms\n",
      " |      args and kwargs are passed on to the model instantiation. E.g.,\n",
      " |      a numpy structured or rec array, a dictionary, or a pandas DataFrame.\n",
      " |  \n",
      " |  ----------------------------------------------------------------------\n",
      " |  Data descriptors inherited from statsmodels.tsa.base.tsa_model.TimeSeriesModel:\n",
      " |  \n",
      " |  exog_names\n",
      " |      The names of the exogenous variables.\n",
      " |  \n",
      " |  ----------------------------------------------------------------------\n",
      " |  Methods inherited from statsmodels.base.model.LikelihoodModel:\n",
      " |  \n",
      " |  information(self, params)\n",
      " |      Fisher information matrix of model.\n",
      " |      \n",
      " |      Returns -1 * Hessian of the log-likelihood evaluated at params.\n",
      " |      \n",
      " |      Parameters\n",
      " |      ----------\n",
      " |      params : ndarray\n",
      " |          The model parameters.\n",
      " |  \n",
      " |  initialize(self)\n",
      " |      Initialize (possibly re-initialize) a Model instance.\n",
      " |      \n",
      " |      For example, if the the design matrix of a linear model changes then\n",
      " |      initialized can be used to recompute values using the modified design\n",
      " |      matrix.\n",
      " |  \n",
      " |  ----------------------------------------------------------------------\n",
      " |  Readonly properties inherited from statsmodels.base.model.Model:\n",
      " |  \n",
      " |  endog_names\n",
      " |      Names of endogenous variables.\n",
      " |  \n",
      " |  ----------------------------------------------------------------------\n",
      " |  Data descriptors inherited from statsmodels.base.model.Model:\n",
      " |  \n",
      " |  __dict__\n",
      " |      dictionary for instance variables (if defined)\n",
      " |  \n",
      " |  __weakref__\n",
      " |      list of weak references to the object (if defined)\n",
      "\n"
     ]
    }
   ],
   "source": [
    "help(ARIMA)"
   ]
  },
  {
   "cell_type": "code",
   "execution_count": 54,
   "id": "61c9cf31-6374-4a21-8ae0-323c693e4281",
   "metadata": {},
   "outputs": [
    {
     "name": "stderr",
     "output_type": "stream",
     "text": [
      "C:\\Users\\Sumit\\anaconda3\\lib\\site-packages\\statsmodels\\tsa\\base\\tsa_model.py:524: ValueWarning: No frequency information was provided, so inferred frequency MS will be used.\n",
      "  warnings.warn('No frequency information was'\n",
      "C:\\Users\\Sumit\\anaconda3\\lib\\site-packages\\statsmodels\\tsa\\base\\tsa_model.py:524: ValueWarning: No frequency information was provided, so inferred frequency MS will be used.\n",
      "  warnings.warn('No frequency information was'\n"
     ]
    },
    {
     "name": "stdout",
     "output_type": "stream",
     "text": [
      "                                      SARIMAX Results                                       \n",
      "============================================================================================\n",
      "Dep. Variable:               Milk in Pounds Per Cow   No. Observations:                  168\n",
      "Model:             SARIMAX(0, 1, 0)x(1, 1, [1], 12)   Log Likelihood                -534.065\n",
      "Date:                              Sat, 08 May 2021   AIC                           1074.131\n",
      "Time:                                      21:49:49   BIC                           1083.261\n",
      "Sample:                                  01-01-1962   HQIC                          1077.839\n",
      "                                       - 12-01-1975                                         \n",
      "Covariance Type:                                opg                                         \n",
      "==============================================================================\n",
      "                 coef    std err          z      P>|z|      [0.025      0.975]\n",
      "------------------------------------------------------------------------------\n",
      "ar.S.L12      -0.0449      0.106     -0.422      0.673      -0.253       0.163\n",
      "ma.S.L12      -0.5860      0.102     -5.762      0.000      -0.785      -0.387\n",
      "sigma2        55.5118      5.356     10.365      0.000      45.015      66.009\n",
      "===================================================================================\n",
      "Ljung-Box (L1) (Q):                   8.13   Jarque-Bera (JB):                32.04\n",
      "Prob(Q):                              0.00   Prob(JB):                         0.00\n",
      "Heteroskedasticity (H):               0.69   Skew:                             0.77\n",
      "Prob(H) (two-sided):                  0.18   Kurtosis:                         4.60\n",
      "===================================================================================\n",
      "\n",
      "Warnings:\n",
      "[1] Covariance matrix calculated using the outer product of gradients (complex-step).\n"
     ]
    }
   ],
   "source": [
    "model = sm.tsa.statespace.SARIMAX(df['Milk in Pounds Per Cow'],order = (0,1,0),seasonal_order=(1,1,1,12))\n",
    "results = model.fit()\n",
    "print(results.summary())"
   ]
  },
  {
   "cell_type": "code",
   "execution_count": 57,
   "id": "008628ca-21e1-40f2-979e-43c8825052d9",
   "metadata": {},
   "outputs": [
    {
     "data": {
      "text/plain": [
       "Month\n",
       "1962-01-01    589.000000\n",
       "1962-02-01    -28.000000\n",
       "1962-03-01     79.000000\n",
       "1962-04-01     16.000000\n",
       "1962-05-01     71.000000\n",
       "                 ...    \n",
       "1975-08-01      2.641352\n",
       "1975-09-01      8.158629\n",
       "1975-10-01      7.676815\n",
       "1975-11-01      6.572470\n",
       "1975-12-01      5.936378\n",
       "Length: 168, dtype: float64"
      ]
     },
     "execution_count": 57,
     "metadata": {},
     "output_type": "execute_result"
    }
   ],
   "source": [
    "#residual data or residual error points\n",
    "results.resid"
   ]
  },
  {
   "cell_type": "code",
   "execution_count": 58,
   "id": "3f8043ae-28bb-46c4-adf2-d140001c4ee5",
   "metadata": {},
   "outputs": [
    {
     "data": {
      "text/plain": [
       "<AxesSubplot:xlabel='Month'>"
      ]
     },
     "execution_count": 58,
     "metadata": {},
     "output_type": "execute_result"
    },
    {
     "data": {
      "image/png": "[encoded data removed]",
      "text/plain": [
       "<Figure size 432x288 with 1 Axes>"
      ]
     },
     "metadata": {
      "needs_background": "light"
     },
     "output_type": "display_data"
    }
   ],
   "source": [
    "results.resid.plot()\n",
    "#in 1963 we had big error"
   ]
  },
  {
   "cell_type": "code",
   "execution_count": 60,
   "id": "8da3152d-e265-4cda-8834-4a036aedfdc5",
   "metadata": {},
   "outputs": [
    {
     "data": {
      "text/plain": [
       "<AxesSubplot:ylabel='Density'>"
      ]
     },
     "execution_count": 60,
     "metadata": {},
     "output_type": "execute_result"
    },
    {
     "data": {
      "image/png": "[encoded data removed]",
      "text/plain": [
       "<Figure size 432x288 with 1 Axes>"
      ]
     },
     "metadata": {
      "needs_background": "light"
     },
     "output_type": "display_data"
    }
   ],
   "source": [
    "#kernel distribution error\n",
    "results.resid.plot(kind='kde')\n",
    "\n",
    "#close the value to 0 better is the model"
   ]
  },
  {
   "cell_type": "markdown",
   "id": "b30c08a2-91b5-452f-8d70-61b869e67e41",
   "metadata": {},
   "source": [
    "## Prediction of Future Values\n",
    "\n",
    "Firts we can get an idea of how well our model performs by just predicting for values that we actually already know:"
   ]
  },
  {
   "cell_type": "code",
   "execution_count": 69,
   "id": "cf2f8f1e-518f-47d4-87e5-eddd4546acd6",
   "metadata": {},
   "outputs": [
    {
     "data": {
      "text/plain": [
       "<AxesSubplot:xlabel='Month'>"
      ]
     },
     "execution_count": 69,
     "metadata": {},
     "output_type": "execute_result"
    },
    {
     "data": {
      "image/png": "[encoded data removed]",
      "text/plain": [
       "<Figure size 864x576 with 1 Axes>"
      ]
     },
     "metadata": {
      "needs_background": "light"
     },
     "output_type": "display_data"
    }
   ],
   "source": [
    "#creatinng dummy forecast\n",
    "\n",
    "df['forecast'] = results.predict(start=150,end=168) #total 28 points\n",
    "df[['Milk in Pounds Per Cow','forecast']].plot(figsize = (12,8))"
   ]
  },
  {
   "cell_type": "code",
   "execution_count": 62,
   "id": "e7370104-931b-49f7-84f4-9c497cafb430",
   "metadata": {},
   "outputs": [
    {
     "data": {
      "text/html": [
       "<div>\n",
       "<style scoped>\n",
       "    .dataframe tbody tr th:only-of-type {\n",
       "        vertical-align: middle;\n",
       "    }\n",
       "\n",
       "    .dataframe tbody tr th {\n",
       "        vertical-align: top;\n",
       "    }\n",
       "\n",
       "    .dataframe thead th {\n",
       "        text-align: right;\n",
       "    }\n",
       "</style>\n",
       "<table border=\"1\" class=\"dataframe\">\n",
       "  <thead>\n",
       "    <tr style=\"text-align: right;\">\n",
       "      <th></th>\n",
       "      <th>Milk in Pounds Per Cow</th>\n",
       "      <th>First Difference</th>\n",
       "      <th>Second Difference</th>\n",
       "      <th>Seasonal Difference</th>\n",
       "      <th>Seasonal First Difference</th>\n",
       "      <th>forecast</th>\n",
       "    </tr>\n",
       "    <tr>\n",
       "      <th>Month</th>\n",
       "      <th></th>\n",
       "      <th></th>\n",
       "      <th></th>\n",
       "      <th></th>\n",
       "      <th></th>\n",
       "      <th></th>\n",
       "    </tr>\n",
       "  </thead>\n",
       "  <tbody>\n",
       "    <tr>\n",
       "      <th>1962-01-01</th>\n",
       "      <td>589.0</td>\n",
       "      <td>NaN</td>\n",
       "      <td>NaN</td>\n",
       "      <td>NaN</td>\n",
       "      <td>NaN</td>\n",
       "      <td>NaN</td>\n",
       "    </tr>\n",
       "    <tr>\n",
       "      <th>1962-02-01</th>\n",
       "      <td>561.0</td>\n",
       "      <td>-28.0</td>\n",
       "      <td>NaN</td>\n",
       "      <td>NaN</td>\n",
       "      <td>NaN</td>\n",
       "      <td>NaN</td>\n",
       "    </tr>\n",
       "    <tr>\n",
       "      <th>1962-03-01</th>\n",
       "      <td>640.0</td>\n",
       "      <td>79.0</td>\n",
       "      <td>107.0</td>\n",
       "      <td>NaN</td>\n",
       "      <td>NaN</td>\n",
       "      <td>NaN</td>\n",
       "    </tr>\n",
       "    <tr>\n",
       "      <th>1962-04-01</th>\n",
       "      <td>656.0</td>\n",
       "      <td>16.0</td>\n",
       "      <td>-63.0</td>\n",
       "      <td>NaN</td>\n",
       "      <td>NaN</td>\n",
       "      <td>NaN</td>\n",
       "    </tr>\n",
       "    <tr>\n",
       "      <th>1962-05-01</th>\n",
       "      <td>727.0</td>\n",
       "      <td>71.0</td>\n",
       "      <td>55.0</td>\n",
       "      <td>NaN</td>\n",
       "      <td>NaN</td>\n",
       "      <td>NaN</td>\n",
       "    </tr>\n",
       "    <tr>\n",
       "      <th>...</th>\n",
       "      <td>...</td>\n",
       "      <td>...</td>\n",
       "      <td>...</td>\n",
       "      <td>...</td>\n",
       "      <td>...</td>\n",
       "      <td>...</td>\n",
       "    </tr>\n",
       "    <tr>\n",
       "      <th>1975-08-01</th>\n",
       "      <td>858.0</td>\n",
       "      <td>-38.0</td>\n",
       "      <td>3.0</td>\n",
       "      <td>-9.0</td>\n",
       "      <td>3.0</td>\n",
       "      <td>855.358648</td>\n",
       "    </tr>\n",
       "    <tr>\n",
       "      <th>1975-09-01</th>\n",
       "      <td>817.0</td>\n",
       "      <td>-41.0</td>\n",
       "      <td>-3.0</td>\n",
       "      <td>2.0</td>\n",
       "      <td>11.0</td>\n",
       "      <td>808.841371</td>\n",
       "    </tr>\n",
       "    <tr>\n",
       "      <th>1975-10-01</th>\n",
       "      <td>827.0</td>\n",
       "      <td>10.0</td>\n",
       "      <td>51.0</td>\n",
       "      <td>15.0</td>\n",
       "      <td>13.0</td>\n",
       "      <td>819.323185</td>\n",
       "    </tr>\n",
       "    <tr>\n",
       "      <th>1975-11-01</th>\n",
       "      <td>797.0</td>\n",
       "      <td>-30.0</td>\n",
       "      <td>-40.0</td>\n",
       "      <td>24.0</td>\n",
       "      <td>9.0</td>\n",
       "      <td>790.427530</td>\n",
       "    </tr>\n",
       "    <tr>\n",
       "      <th>1975-12-01</th>\n",
       "      <td>843.0</td>\n",
       "      <td>46.0</td>\n",
       "      <td>76.0</td>\n",
       "      <td>30.0</td>\n",
       "      <td>6.0</td>\n",
       "      <td>837.063622</td>\n",
       "    </tr>\n",
       "  </tbody>\n",
       "</table>\n",
       "<p>168 rows × 6 columns</p>\n",
       "</div>"
      ],
      "text/plain": [
       "            Milk in Pounds Per Cow  First Difference  Second Difference  \\\n",
       "Month                                                                     \n",
       "1962-01-01                   589.0               NaN                NaN   \n",
       "1962-02-01                   561.0             -28.0                NaN   \n",
       "1962-03-01                   640.0              79.0              107.0   \n",
       "1962-04-01                   656.0              16.0              -63.0   \n",
       "1962-05-01                   727.0              71.0               55.0   \n",
       "...                            ...               ...                ...   \n",
       "1975-08-01                   858.0             -38.0                3.0   \n",
       "1975-09-01                   817.0             -41.0               -3.0   \n",
       "1975-10-01                   827.0              10.0               51.0   \n",
       "1975-11-01                   797.0             -30.0              -40.0   \n",
       "1975-12-01                   843.0              46.0               76.0   \n",
       "\n",
       "            Seasonal Difference  Seasonal First Difference    forecast  \n",
       "Month                                                                   \n",
       "1962-01-01                  NaN                        NaN         NaN  \n",
       "1962-02-01                  NaN                        NaN         NaN  \n",
       "1962-03-01                  NaN                        NaN         NaN  \n",
       "1962-04-01                  NaN                        NaN         NaN  \n",
       "1962-05-01                  NaN                        NaN         NaN  \n",
       "...                         ...                        ...         ...  \n",
       "1975-08-01                 -9.0                        3.0  855.358648  \n",
       "1975-09-01                  2.0                       11.0  808.841371  \n",
       "1975-10-01                 15.0                       13.0  819.323185  \n",
       "1975-11-01                 24.0                        9.0  790.427530  \n",
       "1975-12-01                 30.0                        6.0  837.063622  \n",
       "\n",
       "[168 rows x 6 columns]"
      ]
     },
     "execution_count": 62,
     "metadata": {},
     "output_type": "execute_result"
    }
   ],
   "source": [
    "df"
   ]
  },
  {
   "cell_type": "markdown",
   "id": "d5b5b540-bf01-4e56-81a3-c018d4b1f039",
   "metadata": {},
   "source": [
    "### Last 28 values have forecast values rest have Nan"
   ]
  },
  {
   "cell_type": "code",
   "execution_count": 63,
   "id": "97d4c6bf-86ef-4593-a829-c2e342d5961c",
   "metadata": {},
   "outputs": [],
   "source": [
    "## inrementing date to next 2 years for prediction\n",
    "\n",
    "from pandas.tseries.offsets import DateOffset\n",
    "future_dates = [df.index[-1] + DateOffset(months = x) for x in range(1,24) ]\n",
    "\n",
    "#df.index[-1] is the last index value i.e \"1975-12-01\" the we are adding of set of 1,2,3..24 months"
   ]
  },
  {
   "cell_type": "code",
   "execution_count": 64,
   "id": "de8720fa-3d54-44a7-a082-a7de909ccaf0",
   "metadata": {},
   "outputs": [
    {
     "data": {
      "text/plain": [
       "[Timestamp('1976-01-01 00:00:00'),\n",
       " Timestamp('1976-02-01 00:00:00'),\n",
       " Timestamp('1976-03-01 00:00:00'),\n",
       " Timestamp('1976-04-01 00:00:00'),\n",
       " Timestamp('1976-05-01 00:00:00'),\n",
       " Timestamp('1976-06-01 00:00:00'),\n",
       " Timestamp('1976-07-01 00:00:00'),\n",
       " Timestamp('1976-08-01 00:00:00'),\n",
       " Timestamp('1976-09-01 00:00:00'),\n",
       " Timestamp('1976-10-01 00:00:00'),\n",
       " Timestamp('1976-11-01 00:00:00'),\n",
       " Timestamp('1976-12-01 00:00:00'),\n",
       " Timestamp('1977-01-01 00:00:00'),\n",
       " Timestamp('1977-02-01 00:00:00'),\n",
       " Timestamp('1977-03-01 00:00:00'),\n",
       " Timestamp('1977-04-01 00:00:00'),\n",
       " Timestamp('1977-05-01 00:00:00'),\n",
       " Timestamp('1977-06-01 00:00:00'),\n",
       " Timestamp('1977-07-01 00:00:00'),\n",
       " Timestamp('1977-08-01 00:00:00'),\n",
       " Timestamp('1977-09-01 00:00:00'),\n",
       " Timestamp('1977-10-01 00:00:00'),\n",
       " Timestamp('1977-11-01 00:00:00')]"
      ]
     },
     "execution_count": 64,
     "metadata": {},
     "output_type": "execute_result"
    }
   ],
   "source": [
    "future_dates"
   ]
  },
  {
   "cell_type": "code",
   "execution_count": 65,
   "id": "9592577d-7e32-4bf7-bff4-b1b07689a454",
   "metadata": {},
   "outputs": [],
   "source": [
    "#now adding all the columns on above timestamps(future_dates)\n",
    "future_df = pd.DataFrame(index = future_dates,columns=df.columns)"
   ]
  },
  {
   "cell_type": "code",
   "execution_count": 66,
   "id": "607b7cf9-b561-418d-a387-da9e4b441b7c",
   "metadata": {},
   "outputs": [
    {
     "data": {
      "text/html": [
       "<div>\n",
       "<style scoped>\n",
       "    .dataframe tbody tr th:only-of-type {\n",
       "        vertical-align: middle;\n",
       "    }\n",
       "\n",
       "    .dataframe tbody tr th {\n",
       "        vertical-align: top;\n",
       "    }\n",
       "\n",
       "    .dataframe thead th {\n",
       "        text-align: right;\n",
       "    }\n",
       "</style>\n",
       "<table border=\"1\" class=\"dataframe\">\n",
       "  <thead>\n",
       "    <tr style=\"text-align: right;\">\n",
       "      <th></th>\n",
       "      <th>Milk in Pounds Per Cow</th>\n",
       "      <th>First Difference</th>\n",
       "      <th>Second Difference</th>\n",
       "      <th>Seasonal Difference</th>\n",
       "      <th>Seasonal First Difference</th>\n",
       "      <th>forecast</th>\n",
       "    </tr>\n",
       "  </thead>\n",
       "  <tbody>\n",
       "    <tr>\n",
       "      <th>1976-01-01</th>\n",
       "      <td>NaN</td>\n",
       "      <td>NaN</td>\n",
       "      <td>NaN</td>\n",
       "      <td>NaN</td>\n",
       "      <td>NaN</td>\n",
       "      <td>NaN</td>\n",
       "    </tr>\n",
       "    <tr>\n",
       "      <th>1976-02-01</th>\n",
       "      <td>NaN</td>\n",
       "      <td>NaN</td>\n",
       "      <td>NaN</td>\n",
       "      <td>NaN</td>\n",
       "      <td>NaN</td>\n",
       "      <td>NaN</td>\n",
       "    </tr>\n",
       "    <tr>\n",
       "      <th>1976-03-01</th>\n",
       "      <td>NaN</td>\n",
       "      <td>NaN</td>\n",
       "      <td>NaN</td>\n",
       "      <td>NaN</td>\n",
       "      <td>NaN</td>\n",
       "      <td>NaN</td>\n",
       "    </tr>\n",
       "    <tr>\n",
       "      <th>1976-04-01</th>\n",
       "      <td>NaN</td>\n",
       "      <td>NaN</td>\n",
       "      <td>NaN</td>\n",
       "      <td>NaN</td>\n",
       "      <td>NaN</td>\n",
       "      <td>NaN</td>\n",
       "    </tr>\n",
       "    <tr>\n",
       "      <th>1976-05-01</th>\n",
       "      <td>NaN</td>\n",
       "      <td>NaN</td>\n",
       "      <td>NaN</td>\n",
       "      <td>NaN</td>\n",
       "      <td>NaN</td>\n",
       "      <td>NaN</td>\n",
       "    </tr>\n",
       "    <tr>\n",
       "      <th>1976-06-01</th>\n",
       "      <td>NaN</td>\n",
       "      <td>NaN</td>\n",
       "      <td>NaN</td>\n",
       "      <td>NaN</td>\n",
       "      <td>NaN</td>\n",
       "      <td>NaN</td>\n",
       "    </tr>\n",
       "    <tr>\n",
       "      <th>1976-07-01</th>\n",
       "      <td>NaN</td>\n",
       "      <td>NaN</td>\n",
       "      <td>NaN</td>\n",
       "      <td>NaN</td>\n",
       "      <td>NaN</td>\n",
       "      <td>NaN</td>\n",
       "    </tr>\n",
       "    <tr>\n",
       "      <th>1976-08-01</th>\n",
       "      <td>NaN</td>\n",
       "      <td>NaN</td>\n",
       "      <td>NaN</td>\n",
       "      <td>NaN</td>\n",
       "      <td>NaN</td>\n",
       "      <td>NaN</td>\n",
       "    </tr>\n",
       "    <tr>\n",
       "      <th>1976-09-01</th>\n",
       "      <td>NaN</td>\n",
       "      <td>NaN</td>\n",
       "      <td>NaN</td>\n",
       "      <td>NaN</td>\n",
       "      <td>NaN</td>\n",
       "      <td>NaN</td>\n",
       "    </tr>\n",
       "    <tr>\n",
       "      <th>1976-10-01</th>\n",
       "      <td>NaN</td>\n",
       "      <td>NaN</td>\n",
       "      <td>NaN</td>\n",
       "      <td>NaN</td>\n",
       "      <td>NaN</td>\n",
       "      <td>NaN</td>\n",
       "    </tr>\n",
       "    <tr>\n",
       "      <th>1976-11-01</th>\n",
       "      <td>NaN</td>\n",
       "      <td>NaN</td>\n",
       "      <td>NaN</td>\n",
       "      <td>NaN</td>\n",
       "      <td>NaN</td>\n",
       "      <td>NaN</td>\n",
       "    </tr>\n",
       "    <tr>\n",
       "      <th>1976-12-01</th>\n",
       "      <td>NaN</td>\n",
       "      <td>NaN</td>\n",
       "      <td>NaN</td>\n",
       "      <td>NaN</td>\n",
       "      <td>NaN</td>\n",
       "      <td>NaN</td>\n",
       "    </tr>\n",
       "    <tr>\n",
       "      <th>1977-01-01</th>\n",
       "      <td>NaN</td>\n",
       "      <td>NaN</td>\n",
       "      <td>NaN</td>\n",
       "      <td>NaN</td>\n",
       "      <td>NaN</td>\n",
       "      <td>NaN</td>\n",
       "    </tr>\n",
       "    <tr>\n",
       "      <th>1977-02-01</th>\n",
       "      <td>NaN</td>\n",
       "      <td>NaN</td>\n",
       "      <td>NaN</td>\n",
       "      <td>NaN</td>\n",
       "      <td>NaN</td>\n",
       "      <td>NaN</td>\n",
       "    </tr>\n",
       "    <tr>\n",
       "      <th>1977-03-01</th>\n",
       "      <td>NaN</td>\n",
       "      <td>NaN</td>\n",
       "      <td>NaN</td>\n",
       "      <td>NaN</td>\n",
       "      <td>NaN</td>\n",
       "      <td>NaN</td>\n",
       "    </tr>\n",
       "    <tr>\n",
       "      <th>1977-04-01</th>\n",
       "      <td>NaN</td>\n",
       "      <td>NaN</td>\n",
       "      <td>NaN</td>\n",
       "      <td>NaN</td>\n",
       "      <td>NaN</td>\n",
       "      <td>NaN</td>\n",
       "    </tr>\n",
       "    <tr>\n",
       "      <th>1977-05-01</th>\n",
       "      <td>NaN</td>\n",
       "      <td>NaN</td>\n",
       "      <td>NaN</td>\n",
       "      <td>NaN</td>\n",
       "      <td>NaN</td>\n",
       "      <td>NaN</td>\n",
       "    </tr>\n",
       "    <tr>\n",
       "      <th>1977-06-01</th>\n",
       "      <td>NaN</td>\n",
       "      <td>NaN</td>\n",
       "      <td>NaN</td>\n",
       "      <td>NaN</td>\n",
       "      <td>NaN</td>\n",
       "      <td>NaN</td>\n",
       "    </tr>\n",
       "    <tr>\n",
       "      <th>1977-07-01</th>\n",
       "      <td>NaN</td>\n",
       "      <td>NaN</td>\n",
       "      <td>NaN</td>\n",
       "      <td>NaN</td>\n",
       "      <td>NaN</td>\n",
       "      <td>NaN</td>\n",
       "    </tr>\n",
       "    <tr>\n",
       "      <th>1977-08-01</th>\n",
       "      <td>NaN</td>\n",
       "      <td>NaN</td>\n",
       "      <td>NaN</td>\n",
       "      <td>NaN</td>\n",
       "      <td>NaN</td>\n",
       "      <td>NaN</td>\n",
       "    </tr>\n",
       "    <tr>\n",
       "      <th>1977-09-01</th>\n",
       "      <td>NaN</td>\n",
       "      <td>NaN</td>\n",
       "      <td>NaN</td>\n",
       "      <td>NaN</td>\n",
       "      <td>NaN</td>\n",
       "      <td>NaN</td>\n",
       "    </tr>\n",
       "    <tr>\n",
       "      <th>1977-10-01</th>\n",
       "      <td>NaN</td>\n",
       "      <td>NaN</td>\n",
       "      <td>NaN</td>\n",
       "      <td>NaN</td>\n",
       "      <td>NaN</td>\n",
       "      <td>NaN</td>\n",
       "    </tr>\n",
       "    <tr>\n",
       "      <th>1977-11-01</th>\n",
       "      <td>NaN</td>\n",
       "      <td>NaN</td>\n",
       "      <td>NaN</td>\n",
       "      <td>NaN</td>\n",
       "      <td>NaN</td>\n",
       "      <td>NaN</td>\n",
       "    </tr>\n",
       "  </tbody>\n",
       "</table>\n",
       "</div>"
      ],
      "text/plain": [
       "           Milk in Pounds Per Cow First Difference Second Difference  \\\n",
       "1976-01-01                    NaN              NaN               NaN   \n",
       "1976-02-01                    NaN              NaN               NaN   \n",
       "1976-03-01                    NaN              NaN               NaN   \n",
       "1976-04-01                    NaN              NaN               NaN   \n",
       "1976-05-01                    NaN              NaN               NaN   \n",
       "1976-06-01                    NaN              NaN               NaN   \n",
       "1976-07-01                    NaN              NaN               NaN   \n",
       "1976-08-01                    NaN              NaN               NaN   \n",
       "1976-09-01                    NaN              NaN               NaN   \n",
       "1976-10-01                    NaN              NaN               NaN   \n",
       "1976-11-01                    NaN              NaN               NaN   \n",
       "1976-12-01                    NaN              NaN               NaN   \n",
       "1977-01-01                    NaN              NaN               NaN   \n",
       "1977-02-01                    NaN              NaN               NaN   \n",
       "1977-03-01                    NaN              NaN               NaN   \n",
       "1977-04-01                    NaN              NaN               NaN   \n",
       "1977-05-01                    NaN              NaN               NaN   \n",
       "1977-06-01                    NaN              NaN               NaN   \n",
       "1977-07-01                    NaN              NaN               NaN   \n",
       "1977-08-01                    NaN              NaN               NaN   \n",
       "1977-09-01                    NaN              NaN               NaN   \n",
       "1977-10-01                    NaN              NaN               NaN   \n",
       "1977-11-01                    NaN              NaN               NaN   \n",
       "\n",
       "           Seasonal Difference Seasonal First Difference forecast  \n",
       "1976-01-01                 NaN                       NaN      NaN  \n",
       "1976-02-01                 NaN                       NaN      NaN  \n",
       "1976-03-01                 NaN                       NaN      NaN  \n",
       "1976-04-01                 NaN                       NaN      NaN  \n",
       "1976-05-01                 NaN                       NaN      NaN  \n",
       "1976-06-01                 NaN                       NaN      NaN  \n",
       "1976-07-01                 NaN                       NaN      NaN  \n",
       "1976-08-01                 NaN                       NaN      NaN  \n",
       "1976-09-01                 NaN                       NaN      NaN  \n",
       "1976-10-01                 NaN                       NaN      NaN  \n",
       "1976-11-01                 NaN                       NaN      NaN  \n",
       "1976-12-01                 NaN                       NaN      NaN  \n",
       "1977-01-01                 NaN                       NaN      NaN  \n",
       "1977-02-01                 NaN                       NaN      NaN  \n",
       "1977-03-01                 NaN                       NaN      NaN  \n",
       "1977-04-01                 NaN                       NaN      NaN  \n",
       "1977-05-01                 NaN                       NaN      NaN  \n",
       "1977-06-01                 NaN                       NaN      NaN  \n",
       "1977-07-01                 NaN                       NaN      NaN  \n",
       "1977-08-01                 NaN                       NaN      NaN  \n",
       "1977-09-01                 NaN                       NaN      NaN  \n",
       "1977-10-01                 NaN                       NaN      NaN  \n",
       "1977-11-01                 NaN                       NaN      NaN  "
      ]
     },
     "execution_count": 66,
     "metadata": {},
     "output_type": "execute_result"
    }
   ],
   "source": [
    "future_df"
   ]
  },
  {
   "cell_type": "code",
   "execution_count": 67,
   "id": "0a30d0dc-5a53-4ed5-891f-65b677e46d0f",
   "metadata": {},
   "outputs": [],
   "source": [
    "#Now concating previous data(training data) + new 2 yrs data(test data)\n",
    "\n",
    "final_df = pd.concat([df,future_df])"
   ]
  },
  {
   "cell_type": "code",
   "execution_count": 68,
   "id": "bf289a49-23e8-4401-9f0d-acda711098da",
   "metadata": {},
   "outputs": [
    {
     "data": {
      "text/html": [
       "<div>\n",
       "<style scoped>\n",
       "    .dataframe tbody tr th:only-of-type {\n",
       "        vertical-align: middle;\n",
       "    }\n",
       "\n",
       "    .dataframe tbody tr th {\n",
       "        vertical-align: top;\n",
       "    }\n",
       "\n",
       "    .dataframe thead th {\n",
       "        text-align: right;\n",
       "    }\n",
       "</style>\n",
       "<table border=\"1\" class=\"dataframe\">\n",
       "  <thead>\n",
       "    <tr style=\"text-align: right;\">\n",
       "      <th></th>\n",
       "      <th>Milk in Pounds Per Cow</th>\n",
       "      <th>First Difference</th>\n",
       "      <th>Second Difference</th>\n",
       "      <th>Seasonal Difference</th>\n",
       "      <th>Seasonal First Difference</th>\n",
       "      <th>forecast</th>\n",
       "    </tr>\n",
       "  </thead>\n",
       "  <tbody>\n",
       "    <tr>\n",
       "      <th>1962-01-01</th>\n",
       "      <td>589.0</td>\n",
       "      <td>NaN</td>\n",
       "      <td>NaN</td>\n",
       "      <td>NaN</td>\n",
       "      <td>NaN</td>\n",
       "      <td>NaN</td>\n",
       "    </tr>\n",
       "    <tr>\n",
       "      <th>1962-02-01</th>\n",
       "      <td>561.0</td>\n",
       "      <td>-28.0</td>\n",
       "      <td>NaN</td>\n",
       "      <td>NaN</td>\n",
       "      <td>NaN</td>\n",
       "      <td>NaN</td>\n",
       "    </tr>\n",
       "    <tr>\n",
       "      <th>1962-03-01</th>\n",
       "      <td>640.0</td>\n",
       "      <td>79.0</td>\n",
       "      <td>107.0</td>\n",
       "      <td>NaN</td>\n",
       "      <td>NaN</td>\n",
       "      <td>NaN</td>\n",
       "    </tr>\n",
       "    <tr>\n",
       "      <th>1962-04-01</th>\n",
       "      <td>656.0</td>\n",
       "      <td>16.0</td>\n",
       "      <td>-63.0</td>\n",
       "      <td>NaN</td>\n",
       "      <td>NaN</td>\n",
       "      <td>NaN</td>\n",
       "    </tr>\n",
       "    <tr>\n",
       "      <th>1962-05-01</th>\n",
       "      <td>727.0</td>\n",
       "      <td>71.0</td>\n",
       "      <td>55.0</td>\n",
       "      <td>NaN</td>\n",
       "      <td>NaN</td>\n",
       "      <td>NaN</td>\n",
       "    </tr>\n",
       "    <tr>\n",
       "      <th>...</th>\n",
       "      <td>...</td>\n",
       "      <td>...</td>\n",
       "      <td>...</td>\n",
       "      <td>...</td>\n",
       "      <td>...</td>\n",
       "      <td>...</td>\n",
       "    </tr>\n",
       "    <tr>\n",
       "      <th>1977-07-01</th>\n",
       "      <td>NaN</td>\n",
       "      <td>NaN</td>\n",
       "      <td>NaN</td>\n",
       "      <td>NaN</td>\n",
       "      <td>NaN</td>\n",
       "      <td>NaN</td>\n",
       "    </tr>\n",
       "    <tr>\n",
       "      <th>1977-08-01</th>\n",
       "      <td>NaN</td>\n",
       "      <td>NaN</td>\n",
       "      <td>NaN</td>\n",
       "      <td>NaN</td>\n",
       "      <td>NaN</td>\n",
       "      <td>NaN</td>\n",
       "    </tr>\n",
       "    <tr>\n",
       "      <th>1977-09-01</th>\n",
       "      <td>NaN</td>\n",
       "      <td>NaN</td>\n",
       "      <td>NaN</td>\n",
       "      <td>NaN</td>\n",
       "      <td>NaN</td>\n",
       "      <td>NaN</td>\n",
       "    </tr>\n",
       "    <tr>\n",
       "      <th>1977-10-01</th>\n",
       "      <td>NaN</td>\n",
       "      <td>NaN</td>\n",
       "      <td>NaN</td>\n",
       "      <td>NaN</td>\n",
       "      <td>NaN</td>\n",
       "      <td>NaN</td>\n",
       "    </tr>\n",
       "    <tr>\n",
       "      <th>1977-11-01</th>\n",
       "      <td>NaN</td>\n",
       "      <td>NaN</td>\n",
       "      <td>NaN</td>\n",
       "      <td>NaN</td>\n",
       "      <td>NaN</td>\n",
       "      <td>NaN</td>\n",
       "    </tr>\n",
       "  </tbody>\n",
       "</table>\n",
       "<p>191 rows × 6 columns</p>\n",
       "</div>"
      ],
      "text/plain": [
       "            Milk in Pounds Per Cow  First Difference  Second Difference  \\\n",
       "1962-01-01                   589.0               NaN                NaN   \n",
       "1962-02-01                   561.0             -28.0                NaN   \n",
       "1962-03-01                   640.0              79.0              107.0   \n",
       "1962-04-01                   656.0              16.0              -63.0   \n",
       "1962-05-01                   727.0              71.0               55.0   \n",
       "...                            ...               ...                ...   \n",
       "1977-07-01                     NaN               NaN                NaN   \n",
       "1977-08-01                     NaN               NaN                NaN   \n",
       "1977-09-01                     NaN               NaN                NaN   \n",
       "1977-10-01                     NaN               NaN                NaN   \n",
       "1977-11-01                     NaN               NaN                NaN   \n",
       "\n",
       "            Seasonal Difference  Seasonal First Difference  forecast  \n",
       "1962-01-01                  NaN                        NaN       NaN  \n",
       "1962-02-01                  NaN                        NaN       NaN  \n",
       "1962-03-01                  NaN                        NaN       NaN  \n",
       "1962-04-01                  NaN                        NaN       NaN  \n",
       "1962-05-01                  NaN                        NaN       NaN  \n",
       "...                         ...                        ...       ...  \n",
       "1977-07-01                  NaN                        NaN       NaN  \n",
       "1977-08-01                  NaN                        NaN       NaN  \n",
       "1977-09-01                  NaN                        NaN       NaN  \n",
       "1977-10-01                  NaN                        NaN       NaN  \n",
       "1977-11-01                  NaN                        NaN       NaN  \n",
       "\n",
       "[191 rows x 6 columns]"
      ]
     },
     "execution_count": 68,
     "metadata": {},
     "output_type": "execute_result"
    }
   ],
   "source": [
    "final_df"
   ]
  },
  {
   "cell_type": "code",
   "execution_count": 70,
   "id": "d6d2ff49-7dcf-42a8-aabc-abbd7017e48f",
   "metadata": {},
   "outputs": [],
   "source": [
    "#creating original forecast\n",
    "final_df['forecast'] = results.predict(start=168,end=192) #total 24 data"
   ]
  },
  {
   "cell_type": "code",
   "execution_count": 71,
   "id": "30fa4998-9bc9-4798-aad5-b06d1c3ca28a",
   "metadata": {},
   "outputs": [
    {
     "data": {
      "text/html": [
       "<div>\n",
       "<style scoped>\n",
       "    .dataframe tbody tr th:only-of-type {\n",
       "        vertical-align: middle;\n",
       "    }\n",
       "\n",
       "    .dataframe tbody tr th {\n",
       "        vertical-align: top;\n",
       "    }\n",
       "\n",
       "    .dataframe thead th {\n",
       "        text-align: right;\n",
       "    }\n",
       "</style>\n",
       "<table border=\"1\" class=\"dataframe\">\n",
       "  <thead>\n",
       "    <tr style=\"text-align: right;\">\n",
       "      <th></th>\n",
       "      <th>Milk in Pounds Per Cow</th>\n",
       "      <th>First Difference</th>\n",
       "      <th>Second Difference</th>\n",
       "      <th>Seasonal Difference</th>\n",
       "      <th>Seasonal First Difference</th>\n",
       "      <th>forecast</th>\n",
       "    </tr>\n",
       "  </thead>\n",
       "  <tbody>\n",
       "    <tr>\n",
       "      <th>1962-01-01</th>\n",
       "      <td>589.0</td>\n",
       "      <td>NaN</td>\n",
       "      <td>NaN</td>\n",
       "      <td>NaN</td>\n",
       "      <td>NaN</td>\n",
       "      <td>NaN</td>\n",
       "    </tr>\n",
       "    <tr>\n",
       "      <th>1962-02-01</th>\n",
       "      <td>561.0</td>\n",
       "      <td>-28.0</td>\n",
       "      <td>NaN</td>\n",
       "      <td>NaN</td>\n",
       "      <td>NaN</td>\n",
       "      <td>NaN</td>\n",
       "    </tr>\n",
       "    <tr>\n",
       "      <th>1962-03-01</th>\n",
       "      <td>640.0</td>\n",
       "      <td>79.0</td>\n",
       "      <td>107.0</td>\n",
       "      <td>NaN</td>\n",
       "      <td>NaN</td>\n",
       "      <td>NaN</td>\n",
       "    </tr>\n",
       "    <tr>\n",
       "      <th>1962-04-01</th>\n",
       "      <td>656.0</td>\n",
       "      <td>16.0</td>\n",
       "      <td>-63.0</td>\n",
       "      <td>NaN</td>\n",
       "      <td>NaN</td>\n",
       "      <td>NaN</td>\n",
       "    </tr>\n",
       "    <tr>\n",
       "      <th>1962-05-01</th>\n",
       "      <td>727.0</td>\n",
       "      <td>71.0</td>\n",
       "      <td>55.0</td>\n",
       "      <td>NaN</td>\n",
       "      <td>NaN</td>\n",
       "      <td>NaN</td>\n",
       "    </tr>\n",
       "    <tr>\n",
       "      <th>...</th>\n",
       "      <td>...</td>\n",
       "      <td>...</td>\n",
       "      <td>...</td>\n",
       "      <td>...</td>\n",
       "      <td>...</td>\n",
       "      <td>...</td>\n",
       "    </tr>\n",
       "    <tr>\n",
       "      <th>1977-07-01</th>\n",
       "      <td>NaN</td>\n",
       "      <td>NaN</td>\n",
       "      <td>NaN</td>\n",
       "      <td>NaN</td>\n",
       "      <td>NaN</td>\n",
       "      <td>951.525866</td>\n",
       "    </tr>\n",
       "    <tr>\n",
       "      <th>1977-08-01</th>\n",
       "      <td>NaN</td>\n",
       "      <td>NaN</td>\n",
       "      <td>NaN</td>\n",
       "      <td>NaN</td>\n",
       "      <td>NaN</td>\n",
       "      <td>911.918956</td>\n",
       "    </tr>\n",
       "    <tr>\n",
       "      <th>1977-09-01</th>\n",
       "      <td>NaN</td>\n",
       "      <td>NaN</td>\n",
       "      <td>NaN</td>\n",
       "      <td>NaN</td>\n",
       "      <td>NaN</td>\n",
       "      <td>865.881181</td>\n",
       "    </tr>\n",
       "    <tr>\n",
       "      <th>1977-10-01</th>\n",
       "      <td>NaN</td>\n",
       "      <td>NaN</td>\n",
       "      <td>NaN</td>\n",
       "      <td>NaN</td>\n",
       "      <td>NaN</td>\n",
       "      <td>871.027294</td>\n",
       "    </tr>\n",
       "    <tr>\n",
       "      <th>1977-11-01</th>\n",
       "      <td>NaN</td>\n",
       "      <td>NaN</td>\n",
       "      <td>NaN</td>\n",
       "      <td>NaN</td>\n",
       "      <td>NaN</td>\n",
       "      <td>836.962995</td>\n",
       "    </tr>\n",
       "  </tbody>\n",
       "</table>\n",
       "<p>191 rows × 6 columns</p>\n",
       "</div>"
      ],
      "text/plain": [
       "            Milk in Pounds Per Cow  First Difference  Second Difference  \\\n",
       "1962-01-01                   589.0               NaN                NaN   \n",
       "1962-02-01                   561.0             -28.0                NaN   \n",
       "1962-03-01                   640.0              79.0              107.0   \n",
       "1962-04-01                   656.0              16.0              -63.0   \n",
       "1962-05-01                   727.0              71.0               55.0   \n",
       "...                            ...               ...                ...   \n",
       "1977-07-01                     NaN               NaN                NaN   \n",
       "1977-08-01                     NaN               NaN                NaN   \n",
       "1977-09-01                     NaN               NaN                NaN   \n",
       "1977-10-01                     NaN               NaN                NaN   \n",
       "1977-11-01                     NaN               NaN                NaN   \n",
       "\n",
       "            Seasonal Difference  Seasonal First Difference    forecast  \n",
       "1962-01-01                  NaN                        NaN         NaN  \n",
       "1962-02-01                  NaN                        NaN         NaN  \n",
       "1962-03-01                  NaN                        NaN         NaN  \n",
       "1962-04-01                  NaN                        NaN         NaN  \n",
       "1962-05-01                  NaN                        NaN         NaN  \n",
       "...                         ...                        ...         ...  \n",
       "1977-07-01                  NaN                        NaN  951.525866  \n",
       "1977-08-01                  NaN                        NaN  911.918956  \n",
       "1977-09-01                  NaN                        NaN  865.881181  \n",
       "1977-10-01                  NaN                        NaN  871.027294  \n",
       "1977-11-01                  NaN                        NaN  836.962995  \n",
       "\n",
       "[191 rows x 6 columns]"
      ]
     },
     "execution_count": 71,
     "metadata": {},
     "output_type": "execute_result"
    }
   ],
   "source": [
    "final_df"
   ]
  },
  {
   "cell_type": "code",
   "execution_count": 73,
   "id": "3862d526-0cda-4381-8870-c420acf2b900",
   "metadata": {},
   "outputs": [
    {
     "data": {
      "text/plain": [
       "<AxesSubplot:>"
      ]
     },
     "execution_count": 73,
     "metadata": {},
     "output_type": "execute_result"
    },
    {
     "data": {
      "image/png": "[encoded data removed]",
      "text/plain": [
       "<Figure size 432x288 with 1 Axes>"
      ]
     },
     "metadata": {
      "needs_background": "light"
     },
     "output_type": "display_data"
    }
   ],
   "source": [
    "final_df[['Milk in Pounds Per Cow','forecast']].plot()"
   ]
  },
  {
   "cell_type": "code",
   "execution_count": 76,
   "id": "d97a2556-1875-4c37-a200-f7bb7bdc3c2d",
   "metadata": {},
   "outputs": [
    {
     "name": "stderr",
     "output_type": "stream",
     "text": [
      "warning: LF will be replaced by CRLF in Time-Series-Analysis/ArimaTUT.ipynb.\n",
      "The file will have its original line endings in your working directory\n"
     ]
    }
   ],
   "source": [
    "! git add ArimaTUT.ipynb\n",
    "! git commit -m \"22:09/08-05-2021\"\n",
    "! git push origin main"
   ]
  },
  {
   "cell_type": "code",
   "execution_count": null,
   "id": "55190c9b-4bf5-4306-a703-d0552f41483a",
   "metadata": {},
   "outputs": [],
   "source": []
  }
 ],
 "metadata": {
  "kernelspec": {
   "display_name": "Python [conda env:root] *",
   "language": "python",
   "name": "conda-root-py"
  },
  "language_info": {
   "codemirror_mode": {
    "name": "ipython",
    "version": 3
   },
   "file_extension": ".py",
   "mimetype": "text/x-python",
   "name": "python",
   "nbconvert_exporter": "python",
   "pygments_lexer": "ipython3",
   "version": "3.8.5"
  }
 },
 "nbformat": 4,
 "nbformat_minor": 5
}
